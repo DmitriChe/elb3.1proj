{
  "cells": [
    {
      "cell_type": "markdown",
      "metadata": {
        "id": "view-in-github",
        "colab_type": "text"
      },
      "source": [
        "<a href=\"https://colab.research.google.com/github/sokdnv/project_1/blob/main/IIC_ResNet50_08_05_project.ipynb\" target=\"_parent\"><img src=\"https://colab.research.google.com/assets/colab-badge.svg\" alt=\"Open In Colab\"/></a>"
      ]
    },
    {
      "cell_type": "markdown",
      "metadata": {
        "id": "Xreco9NyVATV"
      },
      "source": [
        "# Фаза 2 • Неделя 8 • Пятница\n",
        "## Нейронные сети\n",
        "### Распознавание Intel Image Classification на ResNet50"
      ]
    },
    {
      "cell_type": "code",
      "execution_count": 2,
      "metadata": {
        "id": "NP-8VZU29Pta",
        "colab": {
          "base_uri": "https://localhost:8080/"
        },
        "outputId": "b972e807-2998-494e-ec6f-623314dd79eb"
      },
      "outputs": [
        {
          "output_type": "stream",
          "name": "stdout",
          "text": [
            "\u001b[2K   \u001b[90m━━━━━━━━━━━━━━━━━━━━━━━━━━━━━━━━━━━━━━━━\u001b[0m \u001b[32m21.3/21.3 MB\u001b[0m \u001b[31m12.9 MB/s\u001b[0m eta \u001b[36m0:00:00\u001b[0m\n",
            "\u001b[?25h"
          ]
        }
      ],
      "source": [
        "!pip -qq install torchutils"
      ]
    },
    {
      "cell_type": "code",
      "execution_count": 20,
      "metadata": {
        "id": "xSj49-gvhZOd"
      },
      "outputs": [],
      "source": [
        "import torch\n",
        "import torchvision\n",
        "import torch.nn as nn\n",
        "from torch.utils.data import DataLoader\n",
        "from torchvision import datasets\n",
        "from torchvision import transforms as T\n",
        "\n",
        "# Для чтения изображений с диска\n",
        "from torchvision import io # input/output\n",
        "import torchutils as tu\n",
        "import json\n",
        "import numpy as np\n",
        "import matplotlib.pyplot as plt\n",
        "\n",
        "import zipfile\n",
        "import os"
      ]
    },
    {
      "cell_type": "code",
      "source": [
        "DEVICE = 'cuda' if torch.cuda.is_available() else 'cpu'\n",
        "print(DEVICE)"
      ],
      "metadata": {
        "id": "RWsjvFpLZpVT",
        "colab": {
          "base_uri": "https://localhost:8080/"
        },
        "outputId": "f13943cf-c600-4c27-e345-d3d2af7bfc5a"
      },
      "execution_count": 4,
      "outputs": [
        {
          "output_type": "stream",
          "name": "stdout",
          "text": [
            "cuda\n"
          ]
        }
      ]
    },
    {
      "cell_type": "markdown",
      "metadata": {
        "id": "AdSIqfrHn15o"
      },
      "source": [
        "## Fine Tuning"
      ]
    },
    {
      "cell_type": "markdown",
      "source": [
        "Теперь обучим модель под свою задачу – сделаем **fine-tuning**. Возьмем `resnet18` для скорости – он намного меньше."
      ],
      "metadata": {
        "id": "2Mi0eJVFTlZ1"
      }
    },
    {
      "cell_type": "code",
      "execution_count": 7,
      "metadata": {
        "id": "OwWgz-qpvOkT",
        "colab": {
          "base_uri": "https://localhost:8080/"
        },
        "outputId": "1446355f-e63e-462a-b473-552c47f66370",
        "collapsed": true
      },
      "outputs": [
        {
          "output_type": "stream",
          "name": "stdout",
          "text": [
            "=======================================================================================================\n",
            "Layer                                         Kernel              Output          Params          FLOPs\n",
            "=======================================================================================================\n",
            "0_conv1                                      [3, 64, 7, 7]     [1, 64, 75, 75]       9,408   52,920,000\n",
            "1_bn1                                                 [64]     [1, 64, 75, 75]         128    1,440,000\n",
            "2_relu                                                   -     [1, 64, 75, 75]           0            0\n",
            "3_maxpool                                                -     [1, 64, 38, 38]           0            0\n",
            "4_layer1.0.Conv2d_conv1                     [64, 64, 1, 1]     [1, 64, 38, 38]       4,096    5,914,624\n",
            "5_layer1.0.BatchNorm2d_bn1                            [64]     [1, 64, 38, 38]         128      369,664\n",
            "6_layer1.0.ReLU_relu                                     -     [1, 64, 38, 38]           0            0\n",
            "7_layer1.0.Conv2d_conv2                     [64, 64, 3, 3]     [1, 64, 38, 38]      36,864   53,231,616\n",
            "8_layer1.0.BatchNorm2d_bn2                            [64]     [1, 64, 38, 38]         128      369,664\n",
            "9_layer1.0.ReLU_relu                                     -     [1, 64, 38, 38]           0            0\n",
            "10_layer1.0.Conv2d_conv3                   [64, 256, 1, 1]    [1, 256, 38, 38]      16,384   23,658,496\n",
            "11_layer1.0.BatchNorm2d_bn3                          [256]    [1, 256, 38, 38]         512    1,478,656\n",
            "12_layer1.0.downsample.Conv2d_0            [64, 256, 1, 1]    [1, 256, 38, 38]      16,384   23,658,496\n",
            "13_layer1.0.downsample.BatchNorm2d_1                 [256]    [1, 256, 38, 38]         512    1,478,656\n",
            "14_layer1.0.ReLU_relu                                    -    [1, 256, 38, 38]           0            0\n",
            "15_layer1.1.Conv2d_conv1                   [256, 64, 1, 1]     [1, 64, 38, 38]      16,384   23,658,496\n",
            "16_layer1.1.BatchNorm2d_bn1                           [64]     [1, 64, 38, 38]         128      369,664\n",
            "17_layer1.1.ReLU_relu                                    -     [1, 64, 38, 38]           0            0\n",
            "18_layer1.1.Conv2d_conv2                    [64, 64, 3, 3]     [1, 64, 38, 38]      36,864   53,231,616\n",
            "19_layer1.1.BatchNorm2d_bn2                           [64]     [1, 64, 38, 38]         128      369,664\n",
            "20_layer1.1.ReLU_relu                                    -     [1, 64, 38, 38]           0            0\n",
            "21_layer1.1.Conv2d_conv3                   [64, 256, 1, 1]    [1, 256, 38, 38]      16,384   23,658,496\n",
            "22_layer1.1.BatchNorm2d_bn3                          [256]    [1, 256, 38, 38]         512    1,478,656\n",
            "23_layer1.1.ReLU_relu                                    -    [1, 256, 38, 38]           0            0\n",
            "24_layer1.2.Conv2d_conv1                   [256, 64, 1, 1]     [1, 64, 38, 38]      16,384   23,658,496\n",
            "25_layer1.2.BatchNorm2d_bn1                           [64]     [1, 64, 38, 38]         128      369,664\n",
            "26_layer1.2.ReLU_relu                                    -     [1, 64, 38, 38]           0            0\n",
            "27_layer1.2.Conv2d_conv2                    [64, 64, 3, 3]     [1, 64, 38, 38]      36,864   53,231,616\n",
            "28_layer1.2.BatchNorm2d_bn2                           [64]     [1, 64, 38, 38]         128      369,664\n",
            "29_layer1.2.ReLU_relu                                    -     [1, 64, 38, 38]           0            0\n",
            "30_layer1.2.Conv2d_conv3                   [64, 256, 1, 1]    [1, 256, 38, 38]      16,384   23,658,496\n",
            "31_layer1.2.BatchNorm2d_bn3                          [256]    [1, 256, 38, 38]         512    1,478,656\n",
            "32_layer1.2.ReLU_relu                                    -    [1, 256, 38, 38]           0            0\n",
            "33_layer2.0.Conv2d_conv1                  [256, 128, 1, 1]    [1, 128, 38, 38]      32,768   47,316,992\n",
            "34_layer2.0.BatchNorm2d_bn1                          [128]    [1, 128, 38, 38]         256      739,328\n",
            "35_layer2.0.ReLU_relu                                    -    [1, 128, 38, 38]           0            0\n",
            "36_layer2.0.Conv2d_conv2                  [128, 128, 3, 3]    [1, 128, 19, 19]     147,456   53,231,616\n",
            "37_layer2.0.BatchNorm2d_bn2                          [128]    [1, 128, 19, 19]         256      184,832\n",
            "38_layer2.0.ReLU_relu                                    -    [1, 128, 19, 19]           0            0\n",
            "39_layer2.0.Conv2d_conv3                  [128, 512, 1, 1]    [1, 512, 19, 19]      65,536   23,658,496\n",
            "40_layer2.0.BatchNorm2d_bn3                          [512]    [1, 512, 19, 19]       1,024      739,328\n",
            "41_layer2.0.downsample.Conv2d_0           [256, 512, 1, 1]    [1, 512, 19, 19]     131,072   47,316,992\n",
            "42_layer2.0.downsample.BatchNorm2d_1                 [512]    [1, 512, 19, 19]       1,024      739,328\n",
            "43_layer2.0.ReLU_relu                                    -    [1, 512, 19, 19]           0            0\n",
            "44_layer2.1.Conv2d_conv1                  [512, 128, 1, 1]    [1, 128, 19, 19]      65,536   23,658,496\n",
            "45_layer2.1.BatchNorm2d_bn1                          [128]    [1, 128, 19, 19]         256      184,832\n",
            "46_layer2.1.ReLU_relu                                    -    [1, 128, 19, 19]           0            0\n",
            "47_layer2.1.Conv2d_conv2                  [128, 128, 3, 3]    [1, 128, 19, 19]     147,456   53,231,616\n",
            "48_layer2.1.BatchNorm2d_bn2                          [128]    [1, 128, 19, 19]         256      184,832\n",
            "49_layer2.1.ReLU_relu                                    -    [1, 128, 19, 19]           0            0\n",
            "50_layer2.1.Conv2d_conv3                  [128, 512, 1, 1]    [1, 512, 19, 19]      65,536   23,658,496\n",
            "51_layer2.1.BatchNorm2d_bn3                          [512]    [1, 512, 19, 19]       1,024      739,328\n",
            "52_layer2.1.ReLU_relu                                    -    [1, 512, 19, 19]           0            0\n",
            "53_layer2.2.Conv2d_conv1                  [512, 128, 1, 1]    [1, 128, 19, 19]      65,536   23,658,496\n",
            "54_layer2.2.BatchNorm2d_bn1                          [128]    [1, 128, 19, 19]         256      184,832\n",
            "55_layer2.2.ReLU_relu                                    -    [1, 128, 19, 19]           0            0\n",
            "56_layer2.2.Conv2d_conv2                  [128, 128, 3, 3]    [1, 128, 19, 19]     147,456   53,231,616\n",
            "57_layer2.2.BatchNorm2d_bn2                          [128]    [1, 128, 19, 19]         256      184,832\n",
            "58_layer2.2.ReLU_relu                                    -    [1, 128, 19, 19]           0            0\n",
            "59_layer2.2.Conv2d_conv3                  [128, 512, 1, 1]    [1, 512, 19, 19]      65,536   23,658,496\n",
            "60_layer2.2.BatchNorm2d_bn3                          [512]    [1, 512, 19, 19]       1,024      739,328\n",
            "61_layer2.2.ReLU_relu                                    -    [1, 512, 19, 19]           0            0\n",
            "62_layer2.3.Conv2d_conv1                  [512, 128, 1, 1]    [1, 128, 19, 19]      65,536   23,658,496\n",
            "63_layer2.3.BatchNorm2d_bn1                          [128]    [1, 128, 19, 19]         256      184,832\n",
            "64_layer2.3.ReLU_relu                                    -    [1, 128, 19, 19]           0            0\n",
            "65_layer2.3.Conv2d_conv2                  [128, 128, 3, 3]    [1, 128, 19, 19]     147,456   53,231,616\n",
            "66_layer2.3.BatchNorm2d_bn2                          [128]    [1, 128, 19, 19]         256      184,832\n",
            "67_layer2.3.ReLU_relu                                    -    [1, 128, 19, 19]           0            0\n",
            "68_layer2.3.Conv2d_conv3                  [128, 512, 1, 1]    [1, 512, 19, 19]      65,536   23,658,496\n",
            "69_layer2.3.BatchNorm2d_bn3                          [512]    [1, 512, 19, 19]       1,024      739,328\n",
            "70_layer2.3.ReLU_relu                                    -    [1, 512, 19, 19]           0            0\n",
            "71_layer3.0.Conv2d_conv1                  [512, 256, 1, 1]    [1, 256, 19, 19]     131,072   47,316,992\n",
            "72_layer3.0.BatchNorm2d_bn1                          [256]    [1, 256, 19, 19]         512      369,664\n",
            "73_layer3.0.ReLU_relu                                    -    [1, 256, 19, 19]           0            0\n",
            "74_layer3.0.Conv2d_conv2                  [256, 256, 3, 3]    [1, 256, 10, 10]     589,824   58,982,400\n",
            "75_layer3.0.BatchNorm2d_bn2                          [256]    [1, 256, 10, 10]         512      102,400\n",
            "76_layer3.0.ReLU_relu                                    -    [1, 256, 10, 10]           0            0\n",
            "77_layer3.0.Conv2d_conv3                 [256, 1024, 1, 1]   [1, 1024, 10, 10]     262,144   26,214,400\n",
            "78_layer3.0.BatchNorm2d_bn3                         [1024]   [1, 1024, 10, 10]       2,048      409,600\n",
            "79_layer3.0.downsample.Conv2d_0          [512, 1024, 1, 1]   [1, 1024, 10, 10]     524,288   52,428,800\n",
            "80_layer3.0.downsample.BatchNorm2d_1                [1024]   [1, 1024, 10, 10]       2,048      409,600\n",
            "81_layer3.0.ReLU_relu                                    -   [1, 1024, 10, 10]           0            0\n",
            "82_layer3.1.Conv2d_conv1                 [1024, 256, 1, 1]    [1, 256, 10, 10]     262,144   26,214,400\n",
            "83_layer3.1.BatchNorm2d_bn1                          [256]    [1, 256, 10, 10]         512      102,400\n",
            "84_layer3.1.ReLU_relu                                    -    [1, 256, 10, 10]           0            0\n",
            "85_layer3.1.Conv2d_conv2                  [256, 256, 3, 3]    [1, 256, 10, 10]     589,824   58,982,400\n",
            "86_layer3.1.BatchNorm2d_bn2                          [256]    [1, 256, 10, 10]         512      102,400\n",
            "87_layer3.1.ReLU_relu                                    -    [1, 256, 10, 10]           0            0\n",
            "88_layer3.1.Conv2d_conv3                 [256, 1024, 1, 1]   [1, 1024, 10, 10]     262,144   26,214,400\n",
            "89_layer3.1.BatchNorm2d_bn3                         [1024]   [1, 1024, 10, 10]       2,048      409,600\n",
            "90_layer3.1.ReLU_relu                                    -   [1, 1024, 10, 10]           0            0\n",
            "91_layer3.2.Conv2d_conv1                 [1024, 256, 1, 1]    [1, 256, 10, 10]     262,144   26,214,400\n",
            "92_layer3.2.BatchNorm2d_bn1                          [256]    [1, 256, 10, 10]         512      102,400\n",
            "93_layer3.2.ReLU_relu                                    -    [1, 256, 10, 10]           0            0\n",
            "94_layer3.2.Conv2d_conv2                  [256, 256, 3, 3]    [1, 256, 10, 10]     589,824   58,982,400\n",
            "95_layer3.2.BatchNorm2d_bn2                          [256]    [1, 256, 10, 10]         512      102,400\n",
            "96_layer3.2.ReLU_relu                                    -    [1, 256, 10, 10]           0            0\n",
            "97_layer3.2.Conv2d_conv3                 [256, 1024, 1, 1]   [1, 1024, 10, 10]     262,144   26,214,400\n",
            "98_layer3.2.BatchNorm2d_bn3                         [1024]   [1, 1024, 10, 10]       2,048      409,600\n",
            "99_layer3.2.ReLU_relu                                    -   [1, 1024, 10, 10]           0            0\n",
            "100_layer3.3.Conv2d_conv1                [1024, 256, 1, 1]    [1, 256, 10, 10]     262,144   26,214,400\n",
            "101_layer3.3.BatchNorm2d_bn1                         [256]    [1, 256, 10, 10]         512      102,400\n",
            "102_layer3.3.ReLU_relu                                   -    [1, 256, 10, 10]           0            0\n",
            "103_layer3.3.Conv2d_conv2                 [256, 256, 3, 3]    [1, 256, 10, 10]     589,824   58,982,400\n",
            "104_layer3.3.BatchNorm2d_bn2                         [256]    [1, 256, 10, 10]         512      102,400\n",
            "105_layer3.3.ReLU_relu                                   -    [1, 256, 10, 10]           0            0\n",
            "106_layer3.3.Conv2d_conv3                [256, 1024, 1, 1]   [1, 1024, 10, 10]     262,144   26,214,400\n",
            "107_layer3.3.BatchNorm2d_bn3                        [1024]   [1, 1024, 10, 10]       2,048      409,600\n",
            "108_layer3.3.ReLU_relu                                   -   [1, 1024, 10, 10]           0            0\n",
            "109_layer3.4.Conv2d_conv1                [1024, 256, 1, 1]    [1, 256, 10, 10]     262,144   26,214,400\n",
            "110_layer3.4.BatchNorm2d_bn1                         [256]    [1, 256, 10, 10]         512      102,400\n",
            "111_layer3.4.ReLU_relu                                   -    [1, 256, 10, 10]           0            0\n",
            "112_layer3.4.Conv2d_conv2                 [256, 256, 3, 3]    [1, 256, 10, 10]     589,824   58,982,400\n",
            "113_layer3.4.BatchNorm2d_bn2                         [256]    [1, 256, 10, 10]         512      102,400\n",
            "114_layer3.4.ReLU_relu                                   -    [1, 256, 10, 10]           0            0\n",
            "115_layer3.4.Conv2d_conv3                [256, 1024, 1, 1]   [1, 1024, 10, 10]     262,144   26,214,400\n",
            "116_layer3.4.BatchNorm2d_bn3                        [1024]   [1, 1024, 10, 10]       2,048      409,600\n",
            "117_layer3.4.ReLU_relu                                   -   [1, 1024, 10, 10]           0            0\n",
            "118_layer3.5.Conv2d_conv1                [1024, 256, 1, 1]    [1, 256, 10, 10]     262,144   26,214,400\n",
            "119_layer3.5.BatchNorm2d_bn1                         [256]    [1, 256, 10, 10]         512      102,400\n",
            "120_layer3.5.ReLU_relu                                   -    [1, 256, 10, 10]           0            0\n",
            "121_layer3.5.Conv2d_conv2                 [256, 256, 3, 3]    [1, 256, 10, 10]     589,824   58,982,400\n",
            "122_layer3.5.BatchNorm2d_bn2                         [256]    [1, 256, 10, 10]         512      102,400\n",
            "123_layer3.5.ReLU_relu                                   -    [1, 256, 10, 10]           0            0\n",
            "124_layer3.5.Conv2d_conv3                [256, 1024, 1, 1]   [1, 1024, 10, 10]     262,144   26,214,400\n",
            "125_layer3.5.BatchNorm2d_bn3                        [1024]   [1, 1024, 10, 10]       2,048      409,600\n",
            "126_layer3.5.ReLU_relu                                   -   [1, 1024, 10, 10]           0            0\n",
            "127_layer4.0.Conv2d_conv1                [1024, 512, 1, 1]    [1, 512, 10, 10]     524,288   52,428,800\n",
            "128_layer4.0.BatchNorm2d_bn1                         [512]    [1, 512, 10, 10]       1,024      204,800\n",
            "129_layer4.0.ReLU_relu                                   -    [1, 512, 10, 10]           0            0\n",
            "130_layer4.0.Conv2d_conv2                 [512, 512, 3, 3]      [1, 512, 5, 5]   2,359,296   58,982,400\n",
            "131_layer4.0.BatchNorm2d_bn2                         [512]      [1, 512, 5, 5]       1,024       51,200\n",
            "132_layer4.0.ReLU_relu                                   -      [1, 512, 5, 5]           0            0\n",
            "133_layer4.0.Conv2d_conv3                [512, 2048, 1, 1]     [1, 2048, 5, 5]   1,048,576   26,214,400\n",
            "134_layer4.0.BatchNorm2d_bn3                        [2048]     [1, 2048, 5, 5]       4,096      204,800\n",
            "135_layer4.0.downsample.Conv2d_0        [1024, 2048, 1, 1]     [1, 2048, 5, 5]   2,097,152   52,428,800\n",
            "136_layer4.0.downsample.BatchNorm2d_1               [2048]     [1, 2048, 5, 5]       4,096      204,800\n",
            "137_layer4.0.ReLU_relu                                   -     [1, 2048, 5, 5]           0            0\n",
            "138_layer4.1.Conv2d_conv1                [2048, 512, 1, 1]      [1, 512, 5, 5]   1,048,576   26,214,400\n",
            "139_layer4.1.BatchNorm2d_bn1                         [512]      [1, 512, 5, 5]       1,024       51,200\n",
            "140_layer4.1.ReLU_relu                                   -      [1, 512, 5, 5]           0            0\n",
            "141_layer4.1.Conv2d_conv2                 [512, 512, 3, 3]      [1, 512, 5, 5]   2,359,296   58,982,400\n",
            "142_layer4.1.BatchNorm2d_bn2                         [512]      [1, 512, 5, 5]       1,024       51,200\n",
            "143_layer4.1.ReLU_relu                                   -      [1, 512, 5, 5]           0            0\n",
            "144_layer4.1.Conv2d_conv3                [512, 2048, 1, 1]     [1, 2048, 5, 5]   1,048,576   26,214,400\n",
            "145_layer4.1.BatchNorm2d_bn3                        [2048]     [1, 2048, 5, 5]       4,096      204,800\n",
            "146_layer4.1.ReLU_relu                                   -     [1, 2048, 5, 5]           0            0\n",
            "147_layer4.2.Conv2d_conv1                [2048, 512, 1, 1]      [1, 512, 5, 5]   1,048,576   26,214,400\n",
            "148_layer4.2.BatchNorm2d_bn1                         [512]      [1, 512, 5, 5]       1,024       51,200\n",
            "149_layer4.2.ReLU_relu                                   -      [1, 512, 5, 5]           0            0\n",
            "150_layer4.2.Conv2d_conv2                 [512, 512, 3, 3]      [1, 512, 5, 5]   2,359,296   58,982,400\n",
            "151_layer4.2.BatchNorm2d_bn2                         [512]      [1, 512, 5, 5]       1,024       51,200\n",
            "152_layer4.2.ReLU_relu                                   -      [1, 512, 5, 5]           0            0\n",
            "153_layer4.2.Conv2d_conv3                [512, 2048, 1, 1]     [1, 2048, 5, 5]   1,048,576   26,214,400\n",
            "154_layer4.2.BatchNorm2d_bn3                        [2048]     [1, 2048, 5, 5]       4,096      204,800\n",
            "155_layer4.2.ReLU_relu                                   -     [1, 2048, 5, 5]           0            0\n",
            "156_avgpool                                              -     [1, 2048, 1, 1]           0       53,248\n",
            "157_fc                                        [2048, 1000]           [1, 1000]   2,049,000    4,095,000\n",
            "=======================================================================================================\n",
            "Total params: 25,557,032\n",
            "Trainable params: 25,557,032\n",
            "Non-trainable params: 0\n",
            "Total FLOPs: 2,013,619,672 / 2.01 GFLOPs\n",
            "-------------------------------------------------------------------------------------------------------\n",
            "Input size (MB): 0.26\n",
            "Forward/backward pass size (MB): 115.18\n",
            "Params size (MB): 97.49\n",
            "Estimated Total Size (MB): 212.93\n",
            "=======================================================================================================\n"
          ]
        }
      ],
      "source": [
        "from torchvision.models import resnet50, ResNet50_Weights\n",
        "model = resnet50(weights=ResNet50_Weights.DEFAULT).to(DEVICE)\n",
        "\n",
        "fake_batch = torch.randn(1, 3, 150, 150, device=DEVICE)\n",
        "tu.get_model_summary(model, fake_batch)\n"
      ]
    },
    {
      "cell_type": "code",
      "source": [
        "# Создаем класс модели нейронки на основе ResNet50\n",
        "\n",
        "class MyResNet50(nn.Module):\n",
        "    def __init__(self):\n",
        "        super().__init__()\n",
        "\n",
        "        # подгружаем базовую модель ResNet50\n",
        "        self.model = resnet50(weights=ResNet50_Weights.DEFAULT)\n",
        "        # заменяем выходной слой - на выходе 6 классов\n",
        "        self.model.fc = nn.Linear(2048, 6)\n",
        "        # замораживаем все слои\n",
        "        for i in self.model.parameters():\n",
        "            i.requires_grad = False\n",
        "        # размораживаем последний слой - для обучения\n",
        "        self.model.fc.weight.requires_grad = True\n",
        "        self.model.fc.bias.requires_grad = True\n",
        "\n",
        "    def forward(self, x):\n",
        "        return self.model(x)\n",
        "\n",
        "\n",
        "model = MyResNet50()\n",
        "model.to(DEVICE);"
      ],
      "metadata": {
        "id": "bI2coBY5T4HN"
      },
      "execution_count": 14,
      "outputs": []
    },
    {
      "cell_type": "code",
      "source": [
        "# Просмотр сруктуры модели\n",
        "model"
      ],
      "metadata": {
        "colab": {
          "base_uri": "https://localhost:8080/"
        },
        "collapsed": true,
        "id": "BV3Itjee5-F_",
        "outputId": "85dd2b5a-2b36-4da0-fe42-a06ded61f0ed"
      },
      "execution_count": 18,
      "outputs": [
        {
          "output_type": "execute_result",
          "data": {
            "text/plain": [
              "MyResNet50(\n",
              "  (model): ResNet(\n",
              "    (conv1): Conv2d(3, 64, kernel_size=(7, 7), stride=(2, 2), padding=(3, 3), bias=False)\n",
              "    (bn1): BatchNorm2d(64, eps=1e-05, momentum=0.1, affine=True, track_running_stats=True)\n",
              "    (relu): ReLU(inplace=True)\n",
              "    (maxpool): MaxPool2d(kernel_size=3, stride=2, padding=1, dilation=1, ceil_mode=False)\n",
              "    (layer1): Sequential(\n",
              "      (0): Bottleneck(\n",
              "        (conv1): Conv2d(64, 64, kernel_size=(1, 1), stride=(1, 1), bias=False)\n",
              "        (bn1): BatchNorm2d(64, eps=1e-05, momentum=0.1, affine=True, track_running_stats=True)\n",
              "        (conv2): Conv2d(64, 64, kernel_size=(3, 3), stride=(1, 1), padding=(1, 1), bias=False)\n",
              "        (bn2): BatchNorm2d(64, eps=1e-05, momentum=0.1, affine=True, track_running_stats=True)\n",
              "        (conv3): Conv2d(64, 256, kernel_size=(1, 1), stride=(1, 1), bias=False)\n",
              "        (bn3): BatchNorm2d(256, eps=1e-05, momentum=0.1, affine=True, track_running_stats=True)\n",
              "        (relu): ReLU(inplace=True)\n",
              "        (downsample): Sequential(\n",
              "          (0): Conv2d(64, 256, kernel_size=(1, 1), stride=(1, 1), bias=False)\n",
              "          (1): BatchNorm2d(256, eps=1e-05, momentum=0.1, affine=True, track_running_stats=True)\n",
              "        )\n",
              "      )\n",
              "      (1): Bottleneck(\n",
              "        (conv1): Conv2d(256, 64, kernel_size=(1, 1), stride=(1, 1), bias=False)\n",
              "        (bn1): BatchNorm2d(64, eps=1e-05, momentum=0.1, affine=True, track_running_stats=True)\n",
              "        (conv2): Conv2d(64, 64, kernel_size=(3, 3), stride=(1, 1), padding=(1, 1), bias=False)\n",
              "        (bn2): BatchNorm2d(64, eps=1e-05, momentum=0.1, affine=True, track_running_stats=True)\n",
              "        (conv3): Conv2d(64, 256, kernel_size=(1, 1), stride=(1, 1), bias=False)\n",
              "        (bn3): BatchNorm2d(256, eps=1e-05, momentum=0.1, affine=True, track_running_stats=True)\n",
              "        (relu): ReLU(inplace=True)\n",
              "      )\n",
              "      (2): Bottleneck(\n",
              "        (conv1): Conv2d(256, 64, kernel_size=(1, 1), stride=(1, 1), bias=False)\n",
              "        (bn1): BatchNorm2d(64, eps=1e-05, momentum=0.1, affine=True, track_running_stats=True)\n",
              "        (conv2): Conv2d(64, 64, kernel_size=(3, 3), stride=(1, 1), padding=(1, 1), bias=False)\n",
              "        (bn2): BatchNorm2d(64, eps=1e-05, momentum=0.1, affine=True, track_running_stats=True)\n",
              "        (conv3): Conv2d(64, 256, kernel_size=(1, 1), stride=(1, 1), bias=False)\n",
              "        (bn3): BatchNorm2d(256, eps=1e-05, momentum=0.1, affine=True, track_running_stats=True)\n",
              "        (relu): ReLU(inplace=True)\n",
              "      )\n",
              "    )\n",
              "    (layer2): Sequential(\n",
              "      (0): Bottleneck(\n",
              "        (conv1): Conv2d(256, 128, kernel_size=(1, 1), stride=(1, 1), bias=False)\n",
              "        (bn1): BatchNorm2d(128, eps=1e-05, momentum=0.1, affine=True, track_running_stats=True)\n",
              "        (conv2): Conv2d(128, 128, kernel_size=(3, 3), stride=(2, 2), padding=(1, 1), bias=False)\n",
              "        (bn2): BatchNorm2d(128, eps=1e-05, momentum=0.1, affine=True, track_running_stats=True)\n",
              "        (conv3): Conv2d(128, 512, kernel_size=(1, 1), stride=(1, 1), bias=False)\n",
              "        (bn3): BatchNorm2d(512, eps=1e-05, momentum=0.1, affine=True, track_running_stats=True)\n",
              "        (relu): ReLU(inplace=True)\n",
              "        (downsample): Sequential(\n",
              "          (0): Conv2d(256, 512, kernel_size=(1, 1), stride=(2, 2), bias=False)\n",
              "          (1): BatchNorm2d(512, eps=1e-05, momentum=0.1, affine=True, track_running_stats=True)\n",
              "        )\n",
              "      )\n",
              "      (1): Bottleneck(\n",
              "        (conv1): Conv2d(512, 128, kernel_size=(1, 1), stride=(1, 1), bias=False)\n",
              "        (bn1): BatchNorm2d(128, eps=1e-05, momentum=0.1, affine=True, track_running_stats=True)\n",
              "        (conv2): Conv2d(128, 128, kernel_size=(3, 3), stride=(1, 1), padding=(1, 1), bias=False)\n",
              "        (bn2): BatchNorm2d(128, eps=1e-05, momentum=0.1, affine=True, track_running_stats=True)\n",
              "        (conv3): Conv2d(128, 512, kernel_size=(1, 1), stride=(1, 1), bias=False)\n",
              "        (bn3): BatchNorm2d(512, eps=1e-05, momentum=0.1, affine=True, track_running_stats=True)\n",
              "        (relu): ReLU(inplace=True)\n",
              "      )\n",
              "      (2): Bottleneck(\n",
              "        (conv1): Conv2d(512, 128, kernel_size=(1, 1), stride=(1, 1), bias=False)\n",
              "        (bn1): BatchNorm2d(128, eps=1e-05, momentum=0.1, affine=True, track_running_stats=True)\n",
              "        (conv2): Conv2d(128, 128, kernel_size=(3, 3), stride=(1, 1), padding=(1, 1), bias=False)\n",
              "        (bn2): BatchNorm2d(128, eps=1e-05, momentum=0.1, affine=True, track_running_stats=True)\n",
              "        (conv3): Conv2d(128, 512, kernel_size=(1, 1), stride=(1, 1), bias=False)\n",
              "        (bn3): BatchNorm2d(512, eps=1e-05, momentum=0.1, affine=True, track_running_stats=True)\n",
              "        (relu): ReLU(inplace=True)\n",
              "      )\n",
              "      (3): Bottleneck(\n",
              "        (conv1): Conv2d(512, 128, kernel_size=(1, 1), stride=(1, 1), bias=False)\n",
              "        (bn1): BatchNorm2d(128, eps=1e-05, momentum=0.1, affine=True, track_running_stats=True)\n",
              "        (conv2): Conv2d(128, 128, kernel_size=(3, 3), stride=(1, 1), padding=(1, 1), bias=False)\n",
              "        (bn2): BatchNorm2d(128, eps=1e-05, momentum=0.1, affine=True, track_running_stats=True)\n",
              "        (conv3): Conv2d(128, 512, kernel_size=(1, 1), stride=(1, 1), bias=False)\n",
              "        (bn3): BatchNorm2d(512, eps=1e-05, momentum=0.1, affine=True, track_running_stats=True)\n",
              "        (relu): ReLU(inplace=True)\n",
              "      )\n",
              "    )\n",
              "    (layer3): Sequential(\n",
              "      (0): Bottleneck(\n",
              "        (conv1): Conv2d(512, 256, kernel_size=(1, 1), stride=(1, 1), bias=False)\n",
              "        (bn1): BatchNorm2d(256, eps=1e-05, momentum=0.1, affine=True, track_running_stats=True)\n",
              "        (conv2): Conv2d(256, 256, kernel_size=(3, 3), stride=(2, 2), padding=(1, 1), bias=False)\n",
              "        (bn2): BatchNorm2d(256, eps=1e-05, momentum=0.1, affine=True, track_running_stats=True)\n",
              "        (conv3): Conv2d(256, 1024, kernel_size=(1, 1), stride=(1, 1), bias=False)\n",
              "        (bn3): BatchNorm2d(1024, eps=1e-05, momentum=0.1, affine=True, track_running_stats=True)\n",
              "        (relu): ReLU(inplace=True)\n",
              "        (downsample): Sequential(\n",
              "          (0): Conv2d(512, 1024, kernel_size=(1, 1), stride=(2, 2), bias=False)\n",
              "          (1): BatchNorm2d(1024, eps=1e-05, momentum=0.1, affine=True, track_running_stats=True)\n",
              "        )\n",
              "      )\n",
              "      (1): Bottleneck(\n",
              "        (conv1): Conv2d(1024, 256, kernel_size=(1, 1), stride=(1, 1), bias=False)\n",
              "        (bn1): BatchNorm2d(256, eps=1e-05, momentum=0.1, affine=True, track_running_stats=True)\n",
              "        (conv2): Conv2d(256, 256, kernel_size=(3, 3), stride=(1, 1), padding=(1, 1), bias=False)\n",
              "        (bn2): BatchNorm2d(256, eps=1e-05, momentum=0.1, affine=True, track_running_stats=True)\n",
              "        (conv3): Conv2d(256, 1024, kernel_size=(1, 1), stride=(1, 1), bias=False)\n",
              "        (bn3): BatchNorm2d(1024, eps=1e-05, momentum=0.1, affine=True, track_running_stats=True)\n",
              "        (relu): ReLU(inplace=True)\n",
              "      )\n",
              "      (2): Bottleneck(\n",
              "        (conv1): Conv2d(1024, 256, kernel_size=(1, 1), stride=(1, 1), bias=False)\n",
              "        (bn1): BatchNorm2d(256, eps=1e-05, momentum=0.1, affine=True, track_running_stats=True)\n",
              "        (conv2): Conv2d(256, 256, kernel_size=(3, 3), stride=(1, 1), padding=(1, 1), bias=False)\n",
              "        (bn2): BatchNorm2d(256, eps=1e-05, momentum=0.1, affine=True, track_running_stats=True)\n",
              "        (conv3): Conv2d(256, 1024, kernel_size=(1, 1), stride=(1, 1), bias=False)\n",
              "        (bn3): BatchNorm2d(1024, eps=1e-05, momentum=0.1, affine=True, track_running_stats=True)\n",
              "        (relu): ReLU(inplace=True)\n",
              "      )\n",
              "      (3): Bottleneck(\n",
              "        (conv1): Conv2d(1024, 256, kernel_size=(1, 1), stride=(1, 1), bias=False)\n",
              "        (bn1): BatchNorm2d(256, eps=1e-05, momentum=0.1, affine=True, track_running_stats=True)\n",
              "        (conv2): Conv2d(256, 256, kernel_size=(3, 3), stride=(1, 1), padding=(1, 1), bias=False)\n",
              "        (bn2): BatchNorm2d(256, eps=1e-05, momentum=0.1, affine=True, track_running_stats=True)\n",
              "        (conv3): Conv2d(256, 1024, kernel_size=(1, 1), stride=(1, 1), bias=False)\n",
              "        (bn3): BatchNorm2d(1024, eps=1e-05, momentum=0.1, affine=True, track_running_stats=True)\n",
              "        (relu): ReLU(inplace=True)\n",
              "      )\n",
              "      (4): Bottleneck(\n",
              "        (conv1): Conv2d(1024, 256, kernel_size=(1, 1), stride=(1, 1), bias=False)\n",
              "        (bn1): BatchNorm2d(256, eps=1e-05, momentum=0.1, affine=True, track_running_stats=True)\n",
              "        (conv2): Conv2d(256, 256, kernel_size=(3, 3), stride=(1, 1), padding=(1, 1), bias=False)\n",
              "        (bn2): BatchNorm2d(256, eps=1e-05, momentum=0.1, affine=True, track_running_stats=True)\n",
              "        (conv3): Conv2d(256, 1024, kernel_size=(1, 1), stride=(1, 1), bias=False)\n",
              "        (bn3): BatchNorm2d(1024, eps=1e-05, momentum=0.1, affine=True, track_running_stats=True)\n",
              "        (relu): ReLU(inplace=True)\n",
              "      )\n",
              "      (5): Bottleneck(\n",
              "        (conv1): Conv2d(1024, 256, kernel_size=(1, 1), stride=(1, 1), bias=False)\n",
              "        (bn1): BatchNorm2d(256, eps=1e-05, momentum=0.1, affine=True, track_running_stats=True)\n",
              "        (conv2): Conv2d(256, 256, kernel_size=(3, 3), stride=(1, 1), padding=(1, 1), bias=False)\n",
              "        (bn2): BatchNorm2d(256, eps=1e-05, momentum=0.1, affine=True, track_running_stats=True)\n",
              "        (conv3): Conv2d(256, 1024, kernel_size=(1, 1), stride=(1, 1), bias=False)\n",
              "        (bn3): BatchNorm2d(1024, eps=1e-05, momentum=0.1, affine=True, track_running_stats=True)\n",
              "        (relu): ReLU(inplace=True)\n",
              "      )\n",
              "    )\n",
              "    (layer4): Sequential(\n",
              "      (0): Bottleneck(\n",
              "        (conv1): Conv2d(1024, 512, kernel_size=(1, 1), stride=(1, 1), bias=False)\n",
              "        (bn1): BatchNorm2d(512, eps=1e-05, momentum=0.1, affine=True, track_running_stats=True)\n",
              "        (conv2): Conv2d(512, 512, kernel_size=(3, 3), stride=(2, 2), padding=(1, 1), bias=False)\n",
              "        (bn2): BatchNorm2d(512, eps=1e-05, momentum=0.1, affine=True, track_running_stats=True)\n",
              "        (conv3): Conv2d(512, 2048, kernel_size=(1, 1), stride=(1, 1), bias=False)\n",
              "        (bn3): BatchNorm2d(2048, eps=1e-05, momentum=0.1, affine=True, track_running_stats=True)\n",
              "        (relu): ReLU(inplace=True)\n",
              "        (downsample): Sequential(\n",
              "          (0): Conv2d(1024, 2048, kernel_size=(1, 1), stride=(2, 2), bias=False)\n",
              "          (1): BatchNorm2d(2048, eps=1e-05, momentum=0.1, affine=True, track_running_stats=True)\n",
              "        )\n",
              "      )\n",
              "      (1): Bottleneck(\n",
              "        (conv1): Conv2d(2048, 512, kernel_size=(1, 1), stride=(1, 1), bias=False)\n",
              "        (bn1): BatchNorm2d(512, eps=1e-05, momentum=0.1, affine=True, track_running_stats=True)\n",
              "        (conv2): Conv2d(512, 512, kernel_size=(3, 3), stride=(1, 1), padding=(1, 1), bias=False)\n",
              "        (bn2): BatchNorm2d(512, eps=1e-05, momentum=0.1, affine=True, track_running_stats=True)\n",
              "        (conv3): Conv2d(512, 2048, kernel_size=(1, 1), stride=(1, 1), bias=False)\n",
              "        (bn3): BatchNorm2d(2048, eps=1e-05, momentum=0.1, affine=True, track_running_stats=True)\n",
              "        (relu): ReLU(inplace=True)\n",
              "      )\n",
              "      (2): Bottleneck(\n",
              "        (conv1): Conv2d(2048, 512, kernel_size=(1, 1), stride=(1, 1), bias=False)\n",
              "        (bn1): BatchNorm2d(512, eps=1e-05, momentum=0.1, affine=True, track_running_stats=True)\n",
              "        (conv2): Conv2d(512, 512, kernel_size=(3, 3), stride=(1, 1), padding=(1, 1), bias=False)\n",
              "        (bn2): BatchNorm2d(512, eps=1e-05, momentum=0.1, affine=True, track_running_stats=True)\n",
              "        (conv3): Conv2d(512, 2048, kernel_size=(1, 1), stride=(1, 1), bias=False)\n",
              "        (bn3): BatchNorm2d(2048, eps=1e-05, momentum=0.1, affine=True, track_running_stats=True)\n",
              "        (relu): ReLU(inplace=True)\n",
              "      )\n",
              "    )\n",
              "    (avgpool): AdaptiveAvgPool2d(output_size=(1, 1))\n",
              "    (fc): Linear(in_features=2048, out_features=6, bias=True)\n",
              "  )\n",
              ")"
            ]
          },
          "metadata": {},
          "execution_count": 18
        }
      ]
    },
    {
      "cell_type": "code",
      "source": [
        "# Проверка настроек последнего слоя\n",
        "model.model.fc"
      ],
      "metadata": {
        "colab": {
          "base_uri": "https://localhost:8080/"
        },
        "id": "mJN19J8M5pjx",
        "outputId": "3e789774-2efe-4c0b-f487-2479f189ea59"
      },
      "execution_count": 17,
      "outputs": [
        {
          "output_type": "execute_result",
          "data": {
            "text/plain": [
              "Linear(in_features=2048, out_features=6, bias=True)"
            ]
          },
          "metadata": {},
          "execution_count": 17
        }
      ]
    },
    {
      "cell_type": "code",
      "execution_count": 21,
      "metadata": {
        "id": "-mI_oWpiofpg"
      },
      "outputs": [],
      "source": [
        "# Распаковываем архив\n",
        "zip_path = 'iic_archive.zip'\n",
        "extract_to = './data/'\n",
        "os.makedirs(extract_to, exist_ok=True)\n",
        "\n",
        "!unzip -q {zip_path} -d {extract_to}"
      ]
    },
    {
      "cell_type": "code",
      "execution_count": 24,
      "metadata": {
        "id": "JRkf8TsNooWm"
      },
      "outputs": [],
      "source": [
        "# Делаем трансформации, которые подразумевает модель:\n",
        "# она обучалась на изображениях такого формата\n",
        "train_transforms = T.Compose([\n",
        "    T.RandomRotation(180),\n",
        "    T.RandomHorizontalFlip(p=.5),\n",
        "    T.ColorJitter(brightness=.5, contrast=.5, saturation=.5, hue=.5),\n",
        "    T.Resize((150, 150)),  # Изменение размера изображений\n",
        "    T.RandomHorizontalFlip(),  # Случайное горизонтальное отражение\n",
        "    T.ToTensor(),  # Конвертация изображений в тензоры\n",
        "    T.Normalize([0.485, 0.456, 0.406], [0.229, 0.224, 0.225])  # Нормализация\n",
        "])\n",
        "\n",
        "# Преобразования для валидационных данных\n",
        "valid_transforms = T.Compose([\n",
        "    T.Resize((150, 150)),\n",
        "    T.ToTensor(),\n",
        "    T.Normalize([0.485, 0.456, 0.406], [0.229, 0.224, 0.225])\n",
        "])"
      ]
    },
    {
      "cell_type": "code",
      "execution_count": 25,
      "metadata": {
        "id": "jSDE2Uayo1kf"
      },
      "outputs": [],
      "source": [
        "# Про ImageFolder\n",
        "# читаем тут: https://elbrus-ds-cheatsheets.streamlit.app/PyTorch_Datasets\n",
        "import torchvision\n",
        "train_dataset = torchvision.datasets.ImageFolder(\n",
        "    'data/seg_train/seg_train',\n",
        "    transform=train_transforms\n",
        ")\n",
        "valid_dataset = torchvision.datasets.ImageFolder(\n",
        "    'data/seg_test/seg_test',\n",
        "    transform=valid_transforms\n",
        ")"
      ]
    },
    {
      "cell_type": "code",
      "execution_count": 26,
      "metadata": {
        "id": "f0xPaXZFK9w5",
        "colab": {
          "base_uri": "https://localhost:8080/"
        },
        "outputId": "6dde62dc-2df9-4e1b-fd9c-38579b5ea556"
      },
      "outputs": [
        {
          "output_type": "execute_result",
          "data": {
            "text/plain": [
              "Dataset ImageFolder\n",
              "    Number of datapoints: 14034\n",
              "    Root location: data/seg_train/seg_train\n",
              "    StandardTransform\n",
              "Transform: Compose(\n",
              "               RandomRotation(degrees=[-180.0, 180.0], interpolation=nearest, expand=False, fill=0)\n",
              "               RandomHorizontalFlip(p=0.5)\n",
              "               ColorJitter(brightness=(0.5, 1.5), contrast=(0.5, 1.5), saturation=(0.5, 1.5), hue=(-0.5, 0.5))\n",
              "               Resize(size=(150, 150), interpolation=bilinear, max_size=None, antialias=True)\n",
              "               RandomHorizontalFlip(p=0.5)\n",
              "               ToTensor()\n",
              "               Normalize(mean=[0.485, 0.456, 0.406], std=[0.229, 0.224, 0.225])\n",
              "           )"
            ]
          },
          "metadata": {},
          "execution_count": 26
        }
      ],
      "source": [
        "train_dataset"
      ]
    },
    {
      "cell_type": "code",
      "source": [
        "train_dataset.class_to_idx"
      ],
      "metadata": {
        "id": "6fBtprzytG5l",
        "colab": {
          "base_uri": "https://localhost:8080/"
        },
        "outputId": "7d682947-0de1-443a-ea8c-83afc9f9dbd6"
      },
      "execution_count": 27,
      "outputs": [
        {
          "output_type": "execute_result",
          "data": {
            "text/plain": [
              "{'buildings': 0,\n",
              " 'forest': 1,\n",
              " 'glacier': 2,\n",
              " 'mountain': 3,\n",
              " 'sea': 4,\n",
              " 'street': 5}"
            ]
          },
          "metadata": {},
          "execution_count": 27
        }
      ]
    },
    {
      "cell_type": "code",
      "execution_count": 28,
      "metadata": {
        "id": "gEsYLYbeZoxo",
        "colab": {
          "base_uri": "https://localhost:8080/"
        },
        "outputId": "bd0b8aed-4780-4836-8c4a-e6963706b95d"
      },
      "outputs": [
        {
          "output_type": "execute_result",
          "data": {
            "text/plain": [
              "{0: 'buildings',\n",
              " 1: 'forest',\n",
              " 2: 'glacier',\n",
              " 3: 'mountain',\n",
              " 4: 'sea',\n",
              " 5: 'street'}"
            ]
          },
          "metadata": {},
          "execution_count": 28
        }
      ],
      "source": [
        "# Словарь для определения класса по индексу\n",
        "idx2class= {j: i for i, j in train_dataset.class_to_idx.items()}\n",
        "idx2class"
      ]
    },
    {
      "cell_type": "code",
      "execution_count": 29,
      "metadata": {
        "id": "kIryIdS_pj7C"
      },
      "outputs": [],
      "source": [
        "train_loader = DataLoader(train_dataset, batch_size=32, shuffle=True)\n",
        "valid_loader = DataLoader(valid_dataset, batch_size=32, shuffle=True)"
      ]
    },
    {
      "cell_type": "code",
      "execution_count": 30,
      "metadata": {
        "id": "cE0ciVOB0kkG"
      },
      "outputs": [],
      "source": [
        "optimizer = torch.optim.Adam(model.parameters(), lr=0.002)\n",
        "criterion = torch.nn.BCEWithLogitsLoss()"
      ]
    },
    {
      "cell_type": "code",
      "execution_count": 35,
      "metadata": {
        "id": "9khYOeSups-f",
        "colab": {
          "base_uri": "https://localhost:8080/",
          "height": 981
        },
        "outputId": "c3a3abf2-8e3e-4bf2-f4b0-f3d2ef46866a"
      },
      "outputs": [
        {
          "output_type": "stream",
          "name": "stdout",
          "text": [
            "tensor([[ 0.0412, -0.0527,  0.2175,  0.2332, -0.0960, -0.0050],\n",
            "        [ 0.2558, -0.0198, -0.0133,  0.1634, -0.2508,  0.2051],\n",
            "        [-0.0257,  0.1284,  0.1721, -0.0467,  0.0629, -0.2735],\n",
            "        [ 0.0744,  0.2117, -0.1455,  0.2356,  0.0332,  0.0095],\n",
            "        [ 0.0418, -0.1319,  0.0693,  0.0456,  0.1335, -0.1451],\n",
            "        [ 0.0786,  0.2681,  0.0907,  0.2252,  0.1831,  0.0761],\n",
            "        [ 0.0974, -0.2328,  0.3087, -0.0845, -0.2078,  0.0113],\n",
            "        [-0.0225,  0.1126,  0.0255, -0.0302,  0.1348,  0.1762],\n",
            "        [-0.0022,  0.0781,  0.2040,  0.2529,  0.1509, -0.0690],\n",
            "        [-0.0723,  0.1619,  0.0174,  0.1453,  0.0167, -0.0586],\n",
            "        [ 0.2280,  0.0988,  0.0210,  0.0439, -0.2075, -0.2030],\n",
            "        [-0.2339, -0.0842,  0.2526,  0.2044, -0.1325, -0.0985],\n",
            "        [-0.2766, -0.0674,  0.3173,  0.0132,  0.1342, -0.1213],\n",
            "        [-0.0360, -0.0996, -0.1465,  0.2164, -0.0683,  0.1640],\n",
            "        [-0.0830,  0.2173,  0.3345, -0.0540,  0.1701,  0.2867],\n",
            "        [ 0.0500,  0.0462, -0.2643,  0.0423,  0.0661, -0.1439],\n",
            "        [-0.0277,  0.3223,  0.4666,  0.4477,  0.3829,  0.1359],\n",
            "        [-0.2191, -0.1145, -0.0772, -0.2096,  0.1028, -0.0520],\n",
            "        [ 0.0976,  0.1742, -0.0928,  0.0336,  0.2665,  0.1913],\n",
            "        [-0.0069,  0.1838,  0.2022, -0.0813,  0.2206, -0.2324],\n",
            "        [ 0.2029,  0.2073,  0.0890,  0.1938,  0.2687,  0.0919],\n",
            "        [ 0.2612, -0.0785,  0.1209, -0.0005, -0.0998, -0.1318],\n",
            "        [-0.0322,  0.0284,  0.0872,  0.3915, -0.0649,  0.1631],\n",
            "        [-0.0370, -0.1408,  0.1010,  0.0077, -0.0097, -0.1723],\n",
            "        [ 0.1198, -0.1408,  0.0575,  0.2674, -0.0301,  0.0440],\n",
            "        [ 0.1383, -0.2706,  0.1058,  0.0449,  0.1708, -0.2570],\n",
            "        [ 0.0094,  0.1091,  0.1162,  0.2407,  0.0448, -0.0141],\n",
            "        [-0.2162, -0.0122,  0.2179,  0.0492,  0.0365, -0.2606],\n",
            "        [ 0.1747, -0.1465,  0.1885,  0.1962,  0.0069,  0.1653],\n",
            "        [-0.0459, -0.0372,  0.1777,  0.1820, -0.1404,  0.1723],\n",
            "        [ 0.1071,  0.0735, -0.0208,  0.1687, -0.0116, -0.1239],\n",
            "        [-0.0170,  0.1460,  0.0330,  0.1178, -0.0234, -0.1660]],\n",
            "       device='cuda:0', grad_fn=<SqueezeBackward1>) torch.Size([32, 6])\n",
            "tensor([1, 4, 0, 2, 0, 3, 2, 5, 2, 4, 1, 2, 2, 2, 4, 5, 0, 0, 3, 5, 0, 1, 0, 0,\n",
            "        2, 5, 4, 1, 5, 0, 1, 0], device='cuda:0') torch.Size([32])\n"
          ]
        },
        {
          "output_type": "error",
          "ename": "ValueError",
          "evalue": "Target size (torch.Size([32])) must be the same as input size (torch.Size([32, 6]))",
          "traceback": [
            "\u001b[0;31m---------------------------------------------------------------------------\u001b[0m",
            "\u001b[0;31mValueError\u001b[0m                                Traceback (most recent call last)",
            "\u001b[0;32m<ipython-input-35-c30641aaac0d>\u001b[0m in \u001b[0;36m<cell line: 5>\u001b[0;34m()\u001b[0m\n\u001b[1;32m     16\u001b[0m         \u001b[0mprint\u001b[0m\u001b[0;34m(\u001b[0m\u001b[0mlabels\u001b[0m\u001b[0;34m,\u001b[0m \u001b[0mlabels\u001b[0m\u001b[0;34m.\u001b[0m\u001b[0mshape\u001b[0m\u001b[0;34m)\u001b[0m\u001b[0;34m\u001b[0m\u001b[0;34m\u001b[0m\u001b[0m\n\u001b[1;32m     17\u001b[0m \u001b[0;34m\u001b[0m\u001b[0m\n\u001b[0;32m---> 18\u001b[0;31m         \u001b[0mloss\u001b[0m \u001b[0;34m=\u001b[0m \u001b[0mcriterion\u001b[0m\u001b[0;34m(\u001b[0m\u001b[0mpreds\u001b[0m\u001b[0;34m,\u001b[0m \u001b[0mlabels\u001b[0m\u001b[0;34m.\u001b[0m\u001b[0mfloat\u001b[0m\u001b[0;34m(\u001b[0m\u001b[0;34m)\u001b[0m\u001b[0;34m)\u001b[0m\u001b[0;34m\u001b[0m\u001b[0;34m\u001b[0m\u001b[0m\n\u001b[0m\u001b[1;32m     19\u001b[0m         \u001b[0mloss_batch\u001b[0m\u001b[0;34m.\u001b[0m\u001b[0mappend\u001b[0m\u001b[0;34m(\u001b[0m\u001b[0mloss\u001b[0m\u001b[0;34m.\u001b[0m\u001b[0mitem\u001b[0m\u001b[0;34m(\u001b[0m\u001b[0;34m)\u001b[0m\u001b[0;34m)\u001b[0m\u001b[0;34m\u001b[0m\u001b[0;34m\u001b[0m\u001b[0m\n\u001b[1;32m     20\u001b[0m         \u001b[0maccuracy\u001b[0m \u001b[0;34m=\u001b[0m \u001b[0;34m(\u001b[0m\u001b[0mpreds\u001b[0m\u001b[0;34m.\u001b[0m\u001b[0msigmoid\u001b[0m\u001b[0;34m(\u001b[0m\u001b[0;34m)\u001b[0m\u001b[0;34m.\u001b[0m\u001b[0mround\u001b[0m\u001b[0;34m(\u001b[0m\u001b[0;34m)\u001b[0m \u001b[0;34m==\u001b[0m \u001b[0mlabels\u001b[0m\u001b[0;34m)\u001b[0m\u001b[0;34m.\u001b[0m\u001b[0mcpu\u001b[0m\u001b[0;34m(\u001b[0m\u001b[0;34m)\u001b[0m\u001b[0;34m.\u001b[0m\u001b[0mnumpy\u001b[0m\u001b[0;34m(\u001b[0m\u001b[0;34m)\u001b[0m\u001b[0;34m.\u001b[0m\u001b[0mmean\u001b[0m\u001b[0;34m(\u001b[0m\u001b[0;34m)\u001b[0m\u001b[0;34m\u001b[0m\u001b[0;34m\u001b[0m\u001b[0m\n",
            "\u001b[0;32m/usr/local/lib/python3.10/dist-packages/torch/nn/modules/module.py\u001b[0m in \u001b[0;36m_wrapped_call_impl\u001b[0;34m(self, *args, **kwargs)\u001b[0m\n\u001b[1;32m   1530\u001b[0m             \u001b[0;32mreturn\u001b[0m \u001b[0mself\u001b[0m\u001b[0;34m.\u001b[0m\u001b[0m_compiled_call_impl\u001b[0m\u001b[0;34m(\u001b[0m\u001b[0;34m*\u001b[0m\u001b[0margs\u001b[0m\u001b[0;34m,\u001b[0m \u001b[0;34m**\u001b[0m\u001b[0mkwargs\u001b[0m\u001b[0;34m)\u001b[0m  \u001b[0;31m# type: ignore[misc]\u001b[0m\u001b[0;34m\u001b[0m\u001b[0;34m\u001b[0m\u001b[0m\n\u001b[1;32m   1531\u001b[0m         \u001b[0;32melse\u001b[0m\u001b[0;34m:\u001b[0m\u001b[0;34m\u001b[0m\u001b[0;34m\u001b[0m\u001b[0m\n\u001b[0;32m-> 1532\u001b[0;31m             \u001b[0;32mreturn\u001b[0m \u001b[0mself\u001b[0m\u001b[0;34m.\u001b[0m\u001b[0m_call_impl\u001b[0m\u001b[0;34m(\u001b[0m\u001b[0;34m*\u001b[0m\u001b[0margs\u001b[0m\u001b[0;34m,\u001b[0m \u001b[0;34m**\u001b[0m\u001b[0mkwargs\u001b[0m\u001b[0;34m)\u001b[0m\u001b[0;34m\u001b[0m\u001b[0;34m\u001b[0m\u001b[0m\n\u001b[0m\u001b[1;32m   1533\u001b[0m \u001b[0;34m\u001b[0m\u001b[0m\n\u001b[1;32m   1534\u001b[0m     \u001b[0;32mdef\u001b[0m \u001b[0m_call_impl\u001b[0m\u001b[0;34m(\u001b[0m\u001b[0mself\u001b[0m\u001b[0;34m,\u001b[0m \u001b[0;34m*\u001b[0m\u001b[0margs\u001b[0m\u001b[0;34m,\u001b[0m \u001b[0;34m**\u001b[0m\u001b[0mkwargs\u001b[0m\u001b[0;34m)\u001b[0m\u001b[0;34m:\u001b[0m\u001b[0;34m\u001b[0m\u001b[0;34m\u001b[0m\u001b[0m\n",
            "\u001b[0;32m/usr/local/lib/python3.10/dist-packages/torch/nn/modules/module.py\u001b[0m in \u001b[0;36m_call_impl\u001b[0;34m(self, *args, **kwargs)\u001b[0m\n\u001b[1;32m   1539\u001b[0m                 \u001b[0;32mor\u001b[0m \u001b[0m_global_backward_pre_hooks\u001b[0m \u001b[0;32mor\u001b[0m \u001b[0m_global_backward_hooks\u001b[0m\u001b[0;34m\u001b[0m\u001b[0;34m\u001b[0m\u001b[0m\n\u001b[1;32m   1540\u001b[0m                 or _global_forward_hooks or _global_forward_pre_hooks):\n\u001b[0;32m-> 1541\u001b[0;31m             \u001b[0;32mreturn\u001b[0m \u001b[0mforward_call\u001b[0m\u001b[0;34m(\u001b[0m\u001b[0;34m*\u001b[0m\u001b[0margs\u001b[0m\u001b[0;34m,\u001b[0m \u001b[0;34m**\u001b[0m\u001b[0mkwargs\u001b[0m\u001b[0;34m)\u001b[0m\u001b[0;34m\u001b[0m\u001b[0;34m\u001b[0m\u001b[0m\n\u001b[0m\u001b[1;32m   1542\u001b[0m \u001b[0;34m\u001b[0m\u001b[0m\n\u001b[1;32m   1543\u001b[0m         \u001b[0;32mtry\u001b[0m\u001b[0;34m:\u001b[0m\u001b[0;34m\u001b[0m\u001b[0;34m\u001b[0m\u001b[0m\n",
            "\u001b[0;32m/usr/local/lib/python3.10/dist-packages/torch/nn/modules/loss.py\u001b[0m in \u001b[0;36mforward\u001b[0;34m(self, input, target)\u001b[0m\n\u001b[1;32m    729\u001b[0m \u001b[0;34m\u001b[0m\u001b[0m\n\u001b[1;32m    730\u001b[0m     \u001b[0;32mdef\u001b[0m \u001b[0mforward\u001b[0m\u001b[0;34m(\u001b[0m\u001b[0mself\u001b[0m\u001b[0;34m,\u001b[0m \u001b[0minput\u001b[0m\u001b[0;34m:\u001b[0m \u001b[0mTensor\u001b[0m\u001b[0;34m,\u001b[0m \u001b[0mtarget\u001b[0m\u001b[0;34m:\u001b[0m \u001b[0mTensor\u001b[0m\u001b[0;34m)\u001b[0m \u001b[0;34m->\u001b[0m \u001b[0mTensor\u001b[0m\u001b[0;34m:\u001b[0m\u001b[0;34m\u001b[0m\u001b[0;34m\u001b[0m\u001b[0m\n\u001b[0;32m--> 731\u001b[0;31m         return F.binary_cross_entropy_with_logits(input, target,\n\u001b[0m\u001b[1;32m    732\u001b[0m                                                   \u001b[0mself\u001b[0m\u001b[0;34m.\u001b[0m\u001b[0mweight\u001b[0m\u001b[0;34m,\u001b[0m\u001b[0;34m\u001b[0m\u001b[0;34m\u001b[0m\u001b[0m\n\u001b[1;32m    733\u001b[0m                                                   \u001b[0mpos_weight\u001b[0m\u001b[0;34m=\u001b[0m\u001b[0mself\u001b[0m\u001b[0;34m.\u001b[0m\u001b[0mpos_weight\u001b[0m\u001b[0;34m,\u001b[0m\u001b[0;34m\u001b[0m\u001b[0;34m\u001b[0m\u001b[0m\n",
            "\u001b[0;32m/usr/local/lib/python3.10/dist-packages/torch/nn/functional.py\u001b[0m in \u001b[0;36mbinary_cross_entropy_with_logits\u001b[0;34m(input, target, weight, size_average, reduce, reduction, pos_weight)\u001b[0m\n\u001b[1;32m   3222\u001b[0m \u001b[0;34m\u001b[0m\u001b[0m\n\u001b[1;32m   3223\u001b[0m     \u001b[0;32mif\u001b[0m \u001b[0;32mnot\u001b[0m \u001b[0;34m(\u001b[0m\u001b[0mtarget\u001b[0m\u001b[0;34m.\u001b[0m\u001b[0msize\u001b[0m\u001b[0;34m(\u001b[0m\u001b[0;34m)\u001b[0m \u001b[0;34m==\u001b[0m \u001b[0minput\u001b[0m\u001b[0;34m.\u001b[0m\u001b[0msize\u001b[0m\u001b[0;34m(\u001b[0m\u001b[0;34m)\u001b[0m\u001b[0;34m)\u001b[0m\u001b[0;34m:\u001b[0m\u001b[0;34m\u001b[0m\u001b[0;34m\u001b[0m\u001b[0m\n\u001b[0;32m-> 3224\u001b[0;31m         \u001b[0;32mraise\u001b[0m \u001b[0mValueError\u001b[0m\u001b[0;34m(\u001b[0m\u001b[0;34mf\"Target size ({target.size()}) must be the same as input size ({input.size()})\"\u001b[0m\u001b[0;34m)\u001b[0m\u001b[0;34m\u001b[0m\u001b[0;34m\u001b[0m\u001b[0m\n\u001b[0m\u001b[1;32m   3225\u001b[0m \u001b[0;34m\u001b[0m\u001b[0m\n\u001b[1;32m   3226\u001b[0m     \u001b[0;32mreturn\u001b[0m \u001b[0mtorch\u001b[0m\u001b[0;34m.\u001b[0m\u001b[0mbinary_cross_entropy_with_logits\u001b[0m\u001b[0;34m(\u001b[0m\u001b[0minput\u001b[0m\u001b[0;34m,\u001b[0m \u001b[0mtarget\u001b[0m\u001b[0;34m,\u001b[0m \u001b[0mweight\u001b[0m\u001b[0;34m,\u001b[0m \u001b[0mpos_weight\u001b[0m\u001b[0;34m,\u001b[0m \u001b[0mreduction_enum\u001b[0m\u001b[0;34m)\u001b[0m\u001b[0;34m\u001b[0m\u001b[0;34m\u001b[0m\u001b[0m\n",
            "\u001b[0;31mValueError\u001b[0m: Target size (torch.Size([32])) must be the same as input size (torch.Size([32, 6]))"
          ]
        }
      ],
      "source": [
        "train_epoch_acc = []\n",
        "train_epoch_losses = []\n",
        "valid_epoch_losses = []\n",
        "valid_epoch_acc =[]\n",
        "for epoch in range(3):\n",
        "    model.train()\n",
        "    loss_batch = []\n",
        "    acc_batch  = []\n",
        "\n",
        "    for images, labels in train_loader:\n",
        "        images = images.to(DEVICE)\n",
        "        labels = labels.to(DEVICE)\n",
        "\n",
        "        preds = model(images).squeeze(-1)\n",
        "        print(preds, preds.shape)\n",
        "        print(labels, labels.shape)\n",
        "\n",
        "        loss = criterion(preds, labels.float())\n",
        "        loss_batch.append(loss.item())\n",
        "        accuracy = (preds.sigmoid().round() == labels).cpu().numpy().mean()\n",
        "        acc_batch.append(accuracy)\n",
        "\n",
        "        optimizer.zero_grad()\n",
        "        loss.backward()\n",
        "        optimizer.step()\n",
        "\n",
        "    train_epoch_losses.append(np.mean(loss_batch))\n",
        "    train_epoch_acc.append(np.mean(acc_batch))\n",
        "\n",
        "    model.eval()\n",
        "    loss_batch = []\n",
        "    acc_batch  = []\n",
        "    for images, labels in valid_loader:\n",
        "        images = images.to(DEVICE)\n",
        "        labels = labels.to(DEVICE)\n",
        "        with torch.no_grad():\n",
        "            preds = model(images).squeeze(-1)\n",
        "\n",
        "\n",
        "        loss = criterion(preds, labels.float())\n",
        "        loss_batch.append(loss.item())\n",
        "\n",
        "        accuracy = (preds.sigmoid().round() == labels).cpu().numpy().mean()\n",
        "        acc_batch.append(accuracy)\n",
        "\n",
        "    valid_epoch_losses.append(np.mean(loss_batch))\n",
        "    valid_epoch_acc.append(np.mean(acc_batch))\n",
        "\n",
        "    print(f'Epoch: {epoch}  loss_train: {train_epoch_losses[-1]:.3f}, loss_valid: {valid_epoch_losses[-1]:.3f}')\n",
        "    print(f'\\t  metrics_train: {train_epoch_acc[-1]:.3f}, metrics_valid: {valid_epoch_acc[-1]:.3f}')"
      ]
    },
    {
      "cell_type": "code",
      "source": [
        "model"
      ],
      "metadata": {
        "colab": {
          "base_uri": "https://localhost:8080/"
        },
        "id": "VnE1Em678Kyi",
        "outputId": "20cd8e1c-305a-4f34-d18e-6ca93e453d73"
      },
      "execution_count": null,
      "outputs": [
        {
          "output_type": "execute_result",
          "data": {
            "text/plain": [
              "MyResNet(\n",
              "  (model): ResNet(\n",
              "    (conv1): Conv2d(3, 64, kernel_size=(7, 7), stride=(2, 2), padding=(3, 3), bias=False)\n",
              "    (bn1): BatchNorm2d(64, eps=1e-05, momentum=0.1, affine=True, track_running_stats=True)\n",
              "    (relu): ReLU(inplace=True)\n",
              "    (maxpool): MaxPool2d(kernel_size=3, stride=2, padding=1, dilation=1, ceil_mode=False)\n",
              "    (layer1): Sequential(\n",
              "      (0): BasicBlock(\n",
              "        (conv1): Conv2d(64, 64, kernel_size=(3, 3), stride=(1, 1), padding=(1, 1), bias=False)\n",
              "        (bn1): BatchNorm2d(64, eps=1e-05, momentum=0.1, affine=True, track_running_stats=True)\n",
              "        (relu): ReLU(inplace=True)\n",
              "        (conv2): Conv2d(64, 64, kernel_size=(3, 3), stride=(1, 1), padding=(1, 1), bias=False)\n",
              "        (bn2): BatchNorm2d(64, eps=1e-05, momentum=0.1, affine=True, track_running_stats=True)\n",
              "      )\n",
              "      (1): BasicBlock(\n",
              "        (conv1): Conv2d(64, 64, kernel_size=(3, 3), stride=(1, 1), padding=(1, 1), bias=False)\n",
              "        (bn1): BatchNorm2d(64, eps=1e-05, momentum=0.1, affine=True, track_running_stats=True)\n",
              "        (relu): ReLU(inplace=True)\n",
              "        (conv2): Conv2d(64, 64, kernel_size=(3, 3), stride=(1, 1), padding=(1, 1), bias=False)\n",
              "        (bn2): BatchNorm2d(64, eps=1e-05, momentum=0.1, affine=True, track_running_stats=True)\n",
              "      )\n",
              "    )\n",
              "    (layer2): Sequential(\n",
              "      (0): BasicBlock(\n",
              "        (conv1): Conv2d(64, 128, kernel_size=(3, 3), stride=(2, 2), padding=(1, 1), bias=False)\n",
              "        (bn1): BatchNorm2d(128, eps=1e-05, momentum=0.1, affine=True, track_running_stats=True)\n",
              "        (relu): ReLU(inplace=True)\n",
              "        (conv2): Conv2d(128, 128, kernel_size=(3, 3), stride=(1, 1), padding=(1, 1), bias=False)\n",
              "        (bn2): BatchNorm2d(128, eps=1e-05, momentum=0.1, affine=True, track_running_stats=True)\n",
              "        (downsample): Sequential(\n",
              "          (0): Conv2d(64, 128, kernel_size=(1, 1), stride=(2, 2), bias=False)\n",
              "          (1): BatchNorm2d(128, eps=1e-05, momentum=0.1, affine=True, track_running_stats=True)\n",
              "        )\n",
              "      )\n",
              "      (1): BasicBlock(\n",
              "        (conv1): Conv2d(128, 128, kernel_size=(3, 3), stride=(1, 1), padding=(1, 1), bias=False)\n",
              "        (bn1): BatchNorm2d(128, eps=1e-05, momentum=0.1, affine=True, track_running_stats=True)\n",
              "        (relu): ReLU(inplace=True)\n",
              "        (conv2): Conv2d(128, 128, kernel_size=(3, 3), stride=(1, 1), padding=(1, 1), bias=False)\n",
              "        (bn2): BatchNorm2d(128, eps=1e-05, momentum=0.1, affine=True, track_running_stats=True)\n",
              "      )\n",
              "    )\n",
              "    (layer3): Sequential(\n",
              "      (0): BasicBlock(\n",
              "        (conv1): Conv2d(128, 256, kernel_size=(3, 3), stride=(2, 2), padding=(1, 1), bias=False)\n",
              "        (bn1): BatchNorm2d(256, eps=1e-05, momentum=0.1, affine=True, track_running_stats=True)\n",
              "        (relu): ReLU(inplace=True)\n",
              "        (conv2): Conv2d(256, 256, kernel_size=(3, 3), stride=(1, 1), padding=(1, 1), bias=False)\n",
              "        (bn2): BatchNorm2d(256, eps=1e-05, momentum=0.1, affine=True, track_running_stats=True)\n",
              "        (downsample): Sequential(\n",
              "          (0): Conv2d(128, 256, kernel_size=(1, 1), stride=(2, 2), bias=False)\n",
              "          (1): BatchNorm2d(256, eps=1e-05, momentum=0.1, affine=True, track_running_stats=True)\n",
              "        )\n",
              "      )\n",
              "      (1): BasicBlock(\n",
              "        (conv1): Conv2d(256, 256, kernel_size=(3, 3), stride=(1, 1), padding=(1, 1), bias=False)\n",
              "        (bn1): BatchNorm2d(256, eps=1e-05, momentum=0.1, affine=True, track_running_stats=True)\n",
              "        (relu): ReLU(inplace=True)\n",
              "        (conv2): Conv2d(256, 256, kernel_size=(3, 3), stride=(1, 1), padding=(1, 1), bias=False)\n",
              "        (bn2): BatchNorm2d(256, eps=1e-05, momentum=0.1, affine=True, track_running_stats=True)\n",
              "      )\n",
              "    )\n",
              "    (layer4): Sequential(\n",
              "      (0): BasicBlock(\n",
              "        (conv1): Conv2d(256, 512, kernel_size=(3, 3), stride=(2, 2), padding=(1, 1), bias=False)\n",
              "        (bn1): BatchNorm2d(512, eps=1e-05, momentum=0.1, affine=True, track_running_stats=True)\n",
              "        (relu): ReLU(inplace=True)\n",
              "        (conv2): Conv2d(512, 512, kernel_size=(3, 3), stride=(1, 1), padding=(1, 1), bias=False)\n",
              "        (bn2): BatchNorm2d(512, eps=1e-05, momentum=0.1, affine=True, track_running_stats=True)\n",
              "        (downsample): Sequential(\n",
              "          (0): Conv2d(256, 512, kernel_size=(1, 1), stride=(2, 2), bias=False)\n",
              "          (1): BatchNorm2d(512, eps=1e-05, momentum=0.1, affine=True, track_running_stats=True)\n",
              "        )\n",
              "      )\n",
              "      (1): BasicBlock(\n",
              "        (conv1): Conv2d(512, 512, kernel_size=(3, 3), stride=(1, 1), padding=(1, 1), bias=False)\n",
              "        (bn1): BatchNorm2d(512, eps=1e-05, momentum=0.1, affine=True, track_running_stats=True)\n",
              "        (relu): ReLU(inplace=True)\n",
              "        (conv2): Conv2d(512, 512, kernel_size=(3, 3), stride=(1, 1), padding=(1, 1), bias=False)\n",
              "        (bn2): BatchNorm2d(512, eps=1e-05, momentum=0.1, affine=True, track_running_stats=True)\n",
              "      )\n",
              "    )\n",
              "    (avgpool): AdaptiveAvgPool2d(output_size=(1, 1))\n",
              "    (fc): Linear(in_features=512, out_features=1, bias=True)\n",
              "  )\n",
              ")"
            ]
          },
          "metadata": {},
          "execution_count": 53
        }
      ]
    },
    {
      "cell_type": "code",
      "source": [
        "idx2class"
      ],
      "metadata": {
        "colab": {
          "base_uri": "https://localhost:8080/"
        },
        "id": "qymmf1fq8U5v",
        "outputId": "e54171cf-96b1-4c0e-8bca-d5a942365f82"
      },
      "execution_count": null,
      "outputs": [
        {
          "output_type": "execute_result",
          "data": {
            "text/plain": [
              "{0: 'cats', 1: 'dogs'}"
            ]
          },
          "metadata": {},
          "execution_count": 55
        }
      ]
    },
    {
      "cell_type": "code",
      "execution_count": null,
      "metadata": {
        "id": "aaUuivM9Z4OM",
        "colab": {
          "base_uri": "https://localhost:8080/",
          "height": 428
        },
        "outputId": "b2f8ef39-2081-49a4-da2a-a85e643e9e04"
      },
      "outputs": [
        {
          "output_type": "display_data",
          "data": {
            "text/plain": [
              "<Figure size 640x480 with 1 Axes>"
            ],
            "image/png": "[encoded data removed]"
          },
          "metadata": {}
        }
      ],
      "source": [
        "img = resize(io.read_image('image.jpg')/255)\n",
        "plt.imshow(torch.permute(img, (1, 2, 0)))\n",
        "with torch.inference_mode():\n",
        "    pred_class = torch.sigmoid(model(img.unsqueeze(0).to(DEVICE))).round().item()\n",
        "plt.axis('off')\n",
        "plt.title(idx2class[pred_class]);"
      ]
    },
    {
      "cell_type": "markdown",
      "metadata": {
        "id": "ObrT6qHfhsiG"
      },
      "source": [
        "## Unfreezing example"
      ]
    },
    {
      "cell_type": "markdown",
      "source": [
        "Теперь возьмем MobileNet (эта модель разрабатывалась специально для мобильных устройств – можно почитать про неё тут: https://telegra.ph/MobileNet-v1-v3-11-24)"
      ],
      "metadata": {
        "id": "qTjD-gueXBup"
      }
    },
    {
      "cell_type": "code",
      "execution_count": null,
      "metadata": {
        "id": "k8hlS47_p118",
        "colab": {
          "base_uri": "https://localhost:8080/"
        },
        "outputId": "77041c16-98fe-46f0-e4f0-88a2a2d3727a"
      },
      "outputs": [
        {
          "output_type": "stream",
          "name": "stderr",
          "text": [
            "Downloading: \"https://download.pytorch.org/models/mobilenet_v3_small-047dcff4.pth\" to /root/.cache/torch/hub/checkpoints/mobilenet_v3_small-047dcff4.pth\n",
            "100%|██████████| 9.83M/9.83M [00:00<00:00, 28.3MB/s]\n"
          ]
        }
      ],
      "source": [
        "from torchvision.models import mobilenet_v3_small, MobileNet_V3_Small_Weights\n",
        "mob_model = mobilenet_v3_small(weights=MobileNet_V3_Small_Weights.DEFAULT)"
      ]
    },
    {
      "cell_type": "code",
      "execution_count": null,
      "metadata": {
        "id": "T3nhO7djiHQF",
        "colab": {
          "base_uri": "https://localhost:8080/"
        },
        "outputId": "848de54e-2e8f-49ed-9aa4-bf79b29b86fa"
      },
      "outputs": [
        {
          "output_type": "execute_result",
          "data": {
            "text/plain": [
              "MobileNetV3(\n",
              "  (features): Sequential(\n",
              "    (0): Conv2dNormActivation(\n",
              "      (0): Conv2d(3, 16, kernel_size=(3, 3), stride=(2, 2), padding=(1, 1), bias=False)\n",
              "      (1): BatchNorm2d(16, eps=0.001, momentum=0.01, affine=True, track_running_stats=True)\n",
              "      (2): Hardswish()\n",
              "    )\n",
              "    (1): InvertedResidual(\n",
              "      (block): Sequential(\n",
              "        (0): Conv2dNormActivation(\n",
              "          (0): Conv2d(16, 16, kernel_size=(3, 3), stride=(2, 2), padding=(1, 1), groups=16, bias=False)\n",
              "          (1): BatchNorm2d(16, eps=0.001, momentum=0.01, affine=True, track_running_stats=True)\n",
              "          (2): ReLU(inplace=True)\n",
              "        )\n",
              "        (1): SqueezeExcitation(\n",
              "          (avgpool): AdaptiveAvgPool2d(output_size=1)\n",
              "          (fc1): Conv2d(16, 8, kernel_size=(1, 1), stride=(1, 1))\n",
              "          (fc2): Conv2d(8, 16, kernel_size=(1, 1), stride=(1, 1))\n",
              "          (activation): ReLU()\n",
              "          (scale_activation): Hardsigmoid()\n",
              "        )\n",
              "        (2): Conv2dNormActivation(\n",
              "          (0): Conv2d(16, 16, kernel_size=(1, 1), stride=(1, 1), bias=False)\n",
              "          (1): BatchNorm2d(16, eps=0.001, momentum=0.01, affine=True, track_running_stats=True)\n",
              "        )\n",
              "      )\n",
              "    )\n",
              "    (2): InvertedResidual(\n",
              "      (block): Sequential(\n",
              "        (0): Conv2dNormActivation(\n",
              "          (0): Conv2d(16, 72, kernel_size=(1, 1), stride=(1, 1), bias=False)\n",
              "          (1): BatchNorm2d(72, eps=0.001, momentum=0.01, affine=True, track_running_stats=True)\n",
              "          (2): ReLU(inplace=True)\n",
              "        )\n",
              "        (1): Conv2dNormActivation(\n",
              "          (0): Conv2d(72, 72, kernel_size=(3, 3), stride=(2, 2), padding=(1, 1), groups=72, bias=False)\n",
              "          (1): BatchNorm2d(72, eps=0.001, momentum=0.01, affine=True, track_running_stats=True)\n",
              "          (2): ReLU(inplace=True)\n",
              "        )\n",
              "        (2): Conv2dNormActivation(\n",
              "          (0): Conv2d(72, 24, kernel_size=(1, 1), stride=(1, 1), bias=False)\n",
              "          (1): BatchNorm2d(24, eps=0.001, momentum=0.01, affine=True, track_running_stats=True)\n",
              "        )\n",
              "      )\n",
              "    )\n",
              "    (3): InvertedResidual(\n",
              "      (block): Sequential(\n",
              "        (0): Conv2dNormActivation(\n",
              "          (0): Conv2d(24, 88, kernel_size=(1, 1), stride=(1, 1), bias=False)\n",
              "          (1): BatchNorm2d(88, eps=0.001, momentum=0.01, affine=True, track_running_stats=True)\n",
              "          (2): ReLU(inplace=True)\n",
              "        )\n",
              "        (1): Conv2dNormActivation(\n",
              "          (0): Conv2d(88, 88, kernel_size=(3, 3), stride=(1, 1), padding=(1, 1), groups=88, bias=False)\n",
              "          (1): BatchNorm2d(88, eps=0.001, momentum=0.01, affine=True, track_running_stats=True)\n",
              "          (2): ReLU(inplace=True)\n",
              "        )\n",
              "        (2): Conv2dNormActivation(\n",
              "          (0): Conv2d(88, 24, kernel_size=(1, 1), stride=(1, 1), bias=False)\n",
              "          (1): BatchNorm2d(24, eps=0.001, momentum=0.01, affine=True, track_running_stats=True)\n",
              "        )\n",
              "      )\n",
              "    )\n",
              "    (4): InvertedResidual(\n",
              "      (block): Sequential(\n",
              "        (0): Conv2dNormActivation(\n",
              "          (0): Conv2d(24, 96, kernel_size=(1, 1), stride=(1, 1), bias=False)\n",
              "          (1): BatchNorm2d(96, eps=0.001, momentum=0.01, affine=True, track_running_stats=True)\n",
              "          (2): Hardswish()\n",
              "        )\n",
              "        (1): Conv2dNormActivation(\n",
              "          (0): Conv2d(96, 96, kernel_size=(5, 5), stride=(2, 2), padding=(2, 2), groups=96, bias=False)\n",
              "          (1): BatchNorm2d(96, eps=0.001, momentum=0.01, affine=True, track_running_stats=True)\n",
              "          (2): Hardswish()\n",
              "        )\n",
              "        (2): SqueezeExcitation(\n",
              "          (avgpool): AdaptiveAvgPool2d(output_size=1)\n",
              "          (fc1): Conv2d(96, 24, kernel_size=(1, 1), stride=(1, 1))\n",
              "          (fc2): Conv2d(24, 96, kernel_size=(1, 1), stride=(1, 1))\n",
              "          (activation): ReLU()\n",
              "          (scale_activation): Hardsigmoid()\n",
              "        )\n",
              "        (3): Conv2dNormActivation(\n",
              "          (0): Conv2d(96, 40, kernel_size=(1, 1), stride=(1, 1), bias=False)\n",
              "          (1): BatchNorm2d(40, eps=0.001, momentum=0.01, affine=True, track_running_stats=True)\n",
              "        )\n",
              "      )\n",
              "    )\n",
              "    (5): InvertedResidual(\n",
              "      (block): Sequential(\n",
              "        (0): Conv2dNormActivation(\n",
              "          (0): Conv2d(40, 240, kernel_size=(1, 1), stride=(1, 1), bias=False)\n",
              "          (1): BatchNorm2d(240, eps=0.001, momentum=0.01, affine=True, track_running_stats=True)\n",
              "          (2): Hardswish()\n",
              "        )\n",
              "        (1): Conv2dNormActivation(\n",
              "          (0): Conv2d(240, 240, kernel_size=(5, 5), stride=(1, 1), padding=(2, 2), groups=240, bias=False)\n",
              "          (1): BatchNorm2d(240, eps=0.001, momentum=0.01, affine=True, track_running_stats=True)\n",
              "          (2): Hardswish()\n",
              "        )\n",
              "        (2): SqueezeExcitation(\n",
              "          (avgpool): AdaptiveAvgPool2d(output_size=1)\n",
              "          (fc1): Conv2d(240, 64, kernel_size=(1, 1), stride=(1, 1))\n",
              "          (fc2): Conv2d(64, 240, kernel_size=(1, 1), stride=(1, 1))\n",
              "          (activation): ReLU()\n",
              "          (scale_activation): Hardsigmoid()\n",
              "        )\n",
              "        (3): Conv2dNormActivation(\n",
              "          (0): Conv2d(240, 40, kernel_size=(1, 1), stride=(1, 1), bias=False)\n",
              "          (1): BatchNorm2d(40, eps=0.001, momentum=0.01, affine=True, track_running_stats=True)\n",
              "        )\n",
              "      )\n",
              "    )\n",
              "    (6): InvertedResidual(\n",
              "      (block): Sequential(\n",
              "        (0): Conv2dNormActivation(\n",
              "          (0): Conv2d(40, 240, kernel_size=(1, 1), stride=(1, 1), bias=False)\n",
              "          (1): BatchNorm2d(240, eps=0.001, momentum=0.01, affine=True, track_running_stats=True)\n",
              "          (2): Hardswish()\n",
              "        )\n",
              "        (1): Conv2dNormActivation(\n",
              "          (0): Conv2d(240, 240, kernel_size=(5, 5), stride=(1, 1), padding=(2, 2), groups=240, bias=False)\n",
              "          (1): BatchNorm2d(240, eps=0.001, momentum=0.01, affine=True, track_running_stats=True)\n",
              "          (2): Hardswish()\n",
              "        )\n",
              "        (2): SqueezeExcitation(\n",
              "          (avgpool): AdaptiveAvgPool2d(output_size=1)\n",
              "          (fc1): Conv2d(240, 64, kernel_size=(1, 1), stride=(1, 1))\n",
              "          (fc2): Conv2d(64, 240, kernel_size=(1, 1), stride=(1, 1))\n",
              "          (activation): ReLU()\n",
              "          (scale_activation): Hardsigmoid()\n",
              "        )\n",
              "        (3): Conv2dNormActivation(\n",
              "          (0): Conv2d(240, 40, kernel_size=(1, 1), stride=(1, 1), bias=False)\n",
              "          (1): BatchNorm2d(40, eps=0.001, momentum=0.01, affine=True, track_running_stats=True)\n",
              "        )\n",
              "      )\n",
              "    )\n",
              "    (7): InvertedResidual(\n",
              "      (block): Sequential(\n",
              "        (0): Conv2dNormActivation(\n",
              "          (0): Conv2d(40, 120, kernel_size=(1, 1), stride=(1, 1), bias=False)\n",
              "          (1): BatchNorm2d(120, eps=0.001, momentum=0.01, affine=True, track_running_stats=True)\n",
              "          (2): Hardswish()\n",
              "        )\n",
              "        (1): Conv2dNormActivation(\n",
              "          (0): Conv2d(120, 120, kernel_size=(5, 5), stride=(1, 1), padding=(2, 2), groups=120, bias=False)\n",
              "          (1): BatchNorm2d(120, eps=0.001, momentum=0.01, affine=True, track_running_stats=True)\n",
              "          (2): Hardswish()\n",
              "        )\n",
              "        (2): SqueezeExcitation(\n",
              "          (avgpool): AdaptiveAvgPool2d(output_size=1)\n",
              "          (fc1): Conv2d(120, 32, kernel_size=(1, 1), stride=(1, 1))\n",
              "          (fc2): Conv2d(32, 120, kernel_size=(1, 1), stride=(1, 1))\n",
              "          (activation): ReLU()\n",
              "          (scale_activation): Hardsigmoid()\n",
              "        )\n",
              "        (3): Conv2dNormActivation(\n",
              "          (0): Conv2d(120, 48, kernel_size=(1, 1), stride=(1, 1), bias=False)\n",
              "          (1): BatchNorm2d(48, eps=0.001, momentum=0.01, affine=True, track_running_stats=True)\n",
              "        )\n",
              "      )\n",
              "    )\n",
              "    (8): InvertedResidual(\n",
              "      (block): Sequential(\n",
              "        (0): Conv2dNormActivation(\n",
              "          (0): Conv2d(48, 144, kernel_size=(1, 1), stride=(1, 1), bias=False)\n",
              "          (1): BatchNorm2d(144, eps=0.001, momentum=0.01, affine=True, track_running_stats=True)\n",
              "          (2): Hardswish()\n",
              "        )\n",
              "        (1): Conv2dNormActivation(\n",
              "          (0): Conv2d(144, 144, kernel_size=(5, 5), stride=(1, 1), padding=(2, 2), groups=144, bias=False)\n",
              "          (1): BatchNorm2d(144, eps=0.001, momentum=0.01, affine=True, track_running_stats=True)\n",
              "          (2): Hardswish()\n",
              "        )\n",
              "        (2): SqueezeExcitation(\n",
              "          (avgpool): AdaptiveAvgPool2d(output_size=1)\n",
              "          (fc1): Conv2d(144, 40, kernel_size=(1, 1), stride=(1, 1))\n",
              "          (fc2): Conv2d(40, 144, kernel_size=(1, 1), stride=(1, 1))\n",
              "          (activation): ReLU()\n",
              "          (scale_activation): Hardsigmoid()\n",
              "        )\n",
              "        (3): Conv2dNormActivation(\n",
              "          (0): Conv2d(144, 48, kernel_size=(1, 1), stride=(1, 1), bias=False)\n",
              "          (1): BatchNorm2d(48, eps=0.001, momentum=0.01, affine=True, track_running_stats=True)\n",
              "        )\n",
              "      )\n",
              "    )\n",
              "    (9): InvertedResidual(\n",
              "      (block): Sequential(\n",
              "        (0): Conv2dNormActivation(\n",
              "          (0): Conv2d(48, 288, kernel_size=(1, 1), stride=(1, 1), bias=False)\n",
              "          (1): BatchNorm2d(288, eps=0.001, momentum=0.01, affine=True, track_running_stats=True)\n",
              "          (2): Hardswish()\n",
              "        )\n",
              "        (1): Conv2dNormActivation(\n",
              "          (0): Conv2d(288, 288, kernel_size=(5, 5), stride=(2, 2), padding=(2, 2), groups=288, bias=False)\n",
              "          (1): BatchNorm2d(288, eps=0.001, momentum=0.01, affine=True, track_running_stats=True)\n",
              "          (2): Hardswish()\n",
              "        )\n",
              "        (2): SqueezeExcitation(\n",
              "          (avgpool): AdaptiveAvgPool2d(output_size=1)\n",
              "          (fc1): Conv2d(288, 72, kernel_size=(1, 1), stride=(1, 1))\n",
              "          (fc2): Conv2d(72, 288, kernel_size=(1, 1), stride=(1, 1))\n",
              "          (activation): ReLU()\n",
              "          (scale_activation): Hardsigmoid()\n",
              "        )\n",
              "        (3): Conv2dNormActivation(\n",
              "          (0): Conv2d(288, 96, kernel_size=(1, 1), stride=(1, 1), bias=False)\n",
              "          (1): BatchNorm2d(96, eps=0.001, momentum=0.01, affine=True, track_running_stats=True)\n",
              "        )\n",
              "      )\n",
              "    )\n",
              "    (10): InvertedResidual(\n",
              "      (block): Sequential(\n",
              "        (0): Conv2dNormActivation(\n",
              "          (0): Conv2d(96, 576, kernel_size=(1, 1), stride=(1, 1), bias=False)\n",
              "          (1): BatchNorm2d(576, eps=0.001, momentum=0.01, affine=True, track_running_stats=True)\n",
              "          (2): Hardswish()\n",
              "        )\n",
              "        (1): Conv2dNormActivation(\n",
              "          (0): Conv2d(576, 576, kernel_size=(5, 5), stride=(1, 1), padding=(2, 2), groups=576, bias=False)\n",
              "          (1): BatchNorm2d(576, eps=0.001, momentum=0.01, affine=True, track_running_stats=True)\n",
              "          (2): Hardswish()\n",
              "        )\n",
              "        (2): SqueezeExcitation(\n",
              "          (avgpool): AdaptiveAvgPool2d(output_size=1)\n",
              "          (fc1): Conv2d(576, 144, kernel_size=(1, 1), stride=(1, 1))\n",
              "          (fc2): Conv2d(144, 576, kernel_size=(1, 1), stride=(1, 1))\n",
              "          (activation): ReLU()\n",
              "          (scale_activation): Hardsigmoid()\n",
              "        )\n",
              "        (3): Conv2dNormActivation(\n",
              "          (0): Conv2d(576, 96, kernel_size=(1, 1), stride=(1, 1), bias=False)\n",
              "          (1): BatchNorm2d(96, eps=0.001, momentum=0.01, affine=True, track_running_stats=True)\n",
              "        )\n",
              "      )\n",
              "    )\n",
              "    (11): InvertedResidual(\n",
              "      (block): Sequential(\n",
              "        (0): Conv2dNormActivation(\n",
              "          (0): Conv2d(96, 576, kernel_size=(1, 1), stride=(1, 1), bias=False)\n",
              "          (1): BatchNorm2d(576, eps=0.001, momentum=0.01, affine=True, track_running_stats=True)\n",
              "          (2): Hardswish()\n",
              "        )\n",
              "        (1): Conv2dNormActivation(\n",
              "          (0): Conv2d(576, 576, kernel_size=(5, 5), stride=(1, 1), padding=(2, 2), groups=576, bias=False)\n",
              "          (1): BatchNorm2d(576, eps=0.001, momentum=0.01, affine=True, track_running_stats=True)\n",
              "          (2): Hardswish()\n",
              "        )\n",
              "        (2): SqueezeExcitation(\n",
              "          (avgpool): AdaptiveAvgPool2d(output_size=1)\n",
              "          (fc1): Conv2d(576, 144, kernel_size=(1, 1), stride=(1, 1))\n",
              "          (fc2): Conv2d(144, 576, kernel_size=(1, 1), stride=(1, 1))\n",
              "          (activation): ReLU()\n",
              "          (scale_activation): Hardsigmoid()\n",
              "        )\n",
              "        (3): Conv2dNormActivation(\n",
              "          (0): Conv2d(576, 96, kernel_size=(1, 1), stride=(1, 1), bias=False)\n",
              "          (1): BatchNorm2d(96, eps=0.001, momentum=0.01, affine=True, track_running_stats=True)\n",
              "        )\n",
              "      )\n",
              "    )\n",
              "    (12): Conv2dNormActivation(\n",
              "      (0): Conv2d(96, 576, kernel_size=(1, 1), stride=(1, 1), bias=False)\n",
              "      (1): BatchNorm2d(576, eps=0.001, momentum=0.01, affine=True, track_running_stats=True)\n",
              "      (2): Hardswish()\n",
              "    )\n",
              "  )\n",
              "  (avgpool): AdaptiveAvgPool2d(output_size=1)\n",
              "  (classifier): Sequential(\n",
              "    (0): Linear(in_features=576, out_features=1024, bias=True)\n",
              "    (1): Hardswish()\n",
              "    (2): Dropout(p=0.2, inplace=True)\n",
              "    (3): Linear(in_features=1024, out_features=1000, bias=True)\n",
              "  )\n",
              ")"
            ]
          },
          "metadata": {},
          "execution_count": 60
        }
      ],
      "source": [
        "# Смотрим архитектуру модели, чтобы узнать названия слоев\n",
        "mob_model"
      ]
    },
    {
      "cell_type": "code",
      "execution_count": null,
      "metadata": {
        "id": "2N4xM8Pkir0w"
      },
      "outputs": [],
      "source": [
        "# Добираемся до последнего слоя\n",
        "mob_model.classifier[3] = nn.Linear(1024, 1)"
      ]
    },
    {
      "cell_type": "code",
      "execution_count": null,
      "metadata": {
        "id": "DQqCN4B1Ix9Z"
      },
      "outputs": [],
      "source": [
        "mob_model"
      ]
    },
    {
      "cell_type": "code",
      "execution_count": null,
      "metadata": {
        "id": "L-XsXALaix8q"
      },
      "outputs": [],
      "source": [
        "# Замораживаем все, чтобы разморозить только нужное\n",
        "for p in mob_model.parameters():\n",
        "    p.requires_grad = False"
      ]
    },
    {
      "cell_type": "code",
      "execution_count": null,
      "metadata": {
        "id": "VzdrI28gi8FF"
      },
      "outputs": [],
      "source": [
        "# Unfreeze head layer\n",
        "## classifier -> (0) Linear\n",
        "mob_model.classifier[0].weight.requires_grad = True\n",
        "mob_model.classifier[0].bias.requires_grad = True\n",
        "## classifier -> (3) Linear\n",
        "mob_model.classifier[3].weight.requires_grad = True\n",
        "mob_model.classifier[3].bias.requires_grad = True\n",
        "\n",
        "# Unfreeze last features layer\n",
        "## features -> (0) Conv2d\n",
        "mob_model.features[12][0].weight.requires_grad = True\n",
        "mob_model.features[12][1].weight.requires_grad = True\n",
        "mob_model.features[12][1].bias.requires_grad = True"
      ]
    },
    {
      "cell_type": "code",
      "execution_count": null,
      "metadata": {
        "id": "owj6uQAPJT8w",
        "collapsed": true,
        "colab": {
          "base_uri": "https://localhost:8080/"
        },
        "outputId": "9c99e3c0-fb35-4e89-9475-38ffa1803703"
      },
      "outputs": [
        {
          "output_type": "stream",
          "name": "stdout",
          "text": [
            "False\n",
            "False\n",
            "False\n",
            "False\n",
            "False\n",
            "False\n",
            "False\n",
            "False\n",
            "False\n",
            "False\n",
            "False\n",
            "False\n",
            "False\n",
            "False\n",
            "False\n",
            "False\n",
            "False\n",
            "False\n",
            "False\n",
            "False\n",
            "False\n",
            "False\n",
            "False\n",
            "False\n",
            "False\n",
            "False\n",
            "False\n",
            "False\n",
            "False\n",
            "False\n",
            "False\n",
            "False\n",
            "False\n",
            "False\n",
            "False\n",
            "False\n",
            "False\n",
            "False\n",
            "False\n",
            "False\n",
            "False\n",
            "False\n",
            "False\n",
            "False\n",
            "False\n",
            "False\n",
            "False\n",
            "False\n",
            "False\n",
            "False\n",
            "False\n",
            "False\n",
            "False\n",
            "False\n",
            "False\n",
            "False\n",
            "False\n",
            "False\n",
            "False\n",
            "False\n",
            "False\n",
            "False\n",
            "False\n",
            "False\n",
            "False\n",
            "False\n",
            "False\n",
            "False\n",
            "False\n",
            "False\n",
            "False\n",
            "False\n",
            "False\n",
            "False\n",
            "False\n",
            "False\n",
            "False\n",
            "False\n",
            "False\n",
            "False\n",
            "False\n",
            "False\n",
            "False\n",
            "False\n",
            "False\n",
            "False\n",
            "False\n",
            "False\n",
            "False\n",
            "False\n",
            "False\n",
            "False\n",
            "False\n",
            "False\n",
            "False\n",
            "False\n",
            "False\n",
            "False\n",
            "False\n",
            "False\n",
            "False\n",
            "False\n",
            "False\n",
            "False\n",
            "False\n",
            "False\n",
            "False\n",
            "False\n",
            "False\n",
            "False\n",
            "False\n",
            "False\n",
            "False\n",
            "False\n",
            "False\n",
            "False\n",
            "False\n",
            "False\n",
            "False\n",
            "False\n",
            "False\n",
            "False\n",
            "False\n",
            "False\n",
            "False\n",
            "False\n",
            "False\n",
            "False\n",
            "False\n",
            "False\n",
            "False\n",
            "False\n",
            "False\n",
            "False\n",
            "False\n",
            "True\n",
            "True\n",
            "True\n",
            "True\n",
            "True\n",
            "True\n",
            "True\n"
          ]
        }
      ],
      "source": [
        "for param in mob_model.parameters():\n",
        "    print(param.requires_grad)"
      ]
    },
    {
      "cell_type": "code",
      "execution_count": null,
      "metadata": {
        "id": "1q3X2AYYlg4v"
      },
      "outputs": [],
      "source": [
        "for p in list(mob_model.parameters())[-10:]:\n",
        "    print(p.requires_grad)"
      ]
    },
    {
      "cell_type": "markdown",
      "metadata": {
        "id": "7KdOTvXGiB4o"
      },
      "source": [
        "## Saving and Loading models"
      ]
    },
    {
      "cell_type": "markdown",
      "source": [],
      "metadata": {
        "id": "FBlwL0npq1Jw"
      }
    },
    {
      "cell_type": "code",
      "execution_count": null,
      "metadata": {
        "id": "BOiaDJKWx0Of"
      },
      "outputs": [],
      "source": [
        "class Model(nn.Module):\n",
        "    def __init__(self):\n",
        "        super().__init__()\n",
        "\n",
        "        self.fc_1 = nn.Linear(33, 1)\n",
        "        self.fc_2 = nn.Linear(33, 2)\n",
        "\n",
        "    def forward(self, x):\n",
        "        out = self.fc_1(x)\n",
        "        out = self.fc_2(out)\n",
        "        return out"
      ]
    },
    {
      "cell_type": "code",
      "execution_count": null,
      "metadata": {
        "id": "UBrAKnN9yIB6"
      },
      "outputs": [],
      "source": [
        "model = Model()"
      ]
    },
    {
      "cell_type": "code",
      "execution_count": null,
      "metadata": {
        "id": "ADVaoI7ZDXKP"
      },
      "outputs": [],
      "source": [
        "# fit\n",
        "# eval\n",
        "# test"
      ]
    },
    {
      "cell_type": "code",
      "execution_count": null,
      "metadata": {
        "id": "FmnXYrFcDd1E",
        "colab": {
          "base_uri": "https://localhost:8080/"
        },
        "outputId": "ee8b60bb-c25a-40f1-8c65-5f8fd4a2e89b"
      },
      "outputs": [
        {
          "output_type": "execute_result",
          "data": {
            "text/plain": [
              "OrderedDict([('fc_1.weight',\n",
              "              tensor([[ 0.0227,  0.1136, -0.0866,  0.0430,  0.0083, -0.1334,  0.1403,  0.1227,\n",
              "                       -0.0929,  0.0042, -0.1311,  0.0808, -0.0992, -0.1009, -0.0477, -0.0237,\n",
              "                       -0.0250,  0.1005, -0.0146, -0.1253, -0.0449,  0.1402,  0.0257,  0.0096,\n",
              "                       -0.1062, -0.0928,  0.0714, -0.1473,  0.1518,  0.1081,  0.1480,  0.1619,\n",
              "                       -0.1129]])),\n",
              "             ('fc_1.bias', tensor([0.0803])),\n",
              "             ('fc_2.weight',\n",
              "              tensor([[-0.1323,  0.0147, -0.0850, -0.0103, -0.0205,  0.1216, -0.1073,  0.1660,\n",
              "                       -0.1730,  0.0032,  0.1019,  0.1479, -0.0664,  0.1189,  0.0306,  0.1615,\n",
              "                        0.1403,  0.0437,  0.1213,  0.1699,  0.0656,  0.0407, -0.1497,  0.0773,\n",
              "                        0.1435, -0.1050, -0.0976, -0.1487,  0.0012, -0.0013, -0.0105,  0.0534,\n",
              "                       -0.1547],\n",
              "                      [-0.1573, -0.0901,  0.1206, -0.0951, -0.0844,  0.0143,  0.0062, -0.0606,\n",
              "                        0.0521, -0.0967, -0.0705, -0.1008,  0.0095,  0.0229,  0.0944, -0.1360,\n",
              "                       -0.0889,  0.1210, -0.0054, -0.1174,  0.0611,  0.1257,  0.0279,  0.0314,\n",
              "                        0.1550,  0.0701,  0.1338, -0.0329, -0.0778,  0.1179, -0.1527, -0.1372,\n",
              "                        0.1584]])),\n",
              "             ('fc_2.bias', tensor([0.1554, 0.0092]))])"
            ]
          },
          "metadata": {},
          "execution_count": 69
        }
      ],
      "source": [
        "model.state_dict()"
      ]
    },
    {
      "cell_type": "code",
      "execution_count": null,
      "metadata": {
        "id": "c0_cIf7-yNgL"
      },
      "outputs": [],
      "source": [
        "torch.save(model.state_dict(), 'weights.pt')"
      ]
    },
    {
      "cell_type": "code",
      "source": [],
      "metadata": {
        "id": "K0MKjic5h2C5"
      },
      "execution_count": null,
      "outputs": []
    },
    {
      "cell_type": "code",
      "source": [],
      "metadata": {
        "id": "46zyYRxvh2AS"
      },
      "execution_count": null,
      "outputs": []
    },
    {
      "cell_type": "code",
      "source": [],
      "metadata": {
        "id": "TSnrXAvEh198"
      },
      "execution_count": null,
      "outputs": []
    },
    {
      "cell_type": "code",
      "execution_count": null,
      "metadata": {
        "id": "4cxGU9VRynd7"
      },
      "outputs": [],
      "source": [
        "class Model(nn.Module):\n",
        "    def __init__(self):\n",
        "        super().__init__()\n",
        "\n",
        "        self.fc_1 = nn.Linear(32, 1)\n",
        "        self.fc_2 = nn.Linear(33, 2)\n",
        "\n",
        "    def forward(self, x):\n",
        "        out = self.fc_1(x)\n",
        "        out = self.fc_2(out)\n",
        "        return out\n",
        "\n",
        "model = Model()"
      ]
    },
    {
      "cell_type": "code",
      "execution_count": null,
      "metadata": {
        "id": "yP5R-hijysTK",
        "colab": {
          "base_uri": "https://localhost:8080/",
          "height": 315
        },
        "outputId": "d30c3745-bdb7-4bbc-e52c-81935c4c4c86"
      },
      "outputs": [
        {
          "output_type": "error",
          "ename": "RuntimeError",
          "evalue": "Error(s) in loading state_dict for Model:\n\tsize mismatch for fc_1.weight: copying a param with shape torch.Size([1, 33]) from checkpoint, the shape in current model is torch.Size([1, 32]).",
          "traceback": [
            "\u001b[0;31m---------------------------------------------------------------------------\u001b[0m",
            "\u001b[0;31mRuntimeError\u001b[0m                              Traceback (most recent call last)",
            "\u001b[0;32m<ipython-input-75-22a84179d060>\u001b[0m in \u001b[0;36m<cell line: 1>\u001b[0;34m()\u001b[0m\n\u001b[0;32m----> 1\u001b[0;31m \u001b[0mmodel\u001b[0m\u001b[0;34m.\u001b[0m\u001b[0mload_state_dict\u001b[0m\u001b[0;34m(\u001b[0m\u001b[0mtorch\u001b[0m\u001b[0;34m.\u001b[0m\u001b[0mload\u001b[0m\u001b[0;34m(\u001b[0m\u001b[0;34m'weights.pt'\u001b[0m\u001b[0;34m)\u001b[0m\u001b[0;34m)\u001b[0m\u001b[0;34m\u001b[0m\u001b[0;34m\u001b[0m\u001b[0m\n\u001b[0m",
            "\u001b[0;32m/usr/local/lib/python3.10/dist-packages/torch/nn/modules/module.py\u001b[0m in \u001b[0;36mload_state_dict\u001b[0;34m(self, state_dict, strict, assign)\u001b[0m\n\u001b[1;32m   2187\u001b[0m \u001b[0;34m\u001b[0m\u001b[0m\n\u001b[1;32m   2188\u001b[0m         \u001b[0;32mif\u001b[0m \u001b[0mlen\u001b[0m\u001b[0;34m(\u001b[0m\u001b[0merror_msgs\u001b[0m\u001b[0;34m)\u001b[0m \u001b[0;34m>\u001b[0m \u001b[0;36m0\u001b[0m\u001b[0;34m:\u001b[0m\u001b[0;34m\u001b[0m\u001b[0;34m\u001b[0m\u001b[0m\n\u001b[0;32m-> 2189\u001b[0;31m             raise RuntimeError('Error(s) in loading state_dict for {}:\\n\\t{}'.format(\n\u001b[0m\u001b[1;32m   2190\u001b[0m                                self.__class__.__name__, \"\\n\\t\".join(error_msgs)))\n\u001b[1;32m   2191\u001b[0m         \u001b[0;32mreturn\u001b[0m \u001b[0m_IncompatibleKeys\u001b[0m\u001b[0;34m(\u001b[0m\u001b[0mmissing_keys\u001b[0m\u001b[0;34m,\u001b[0m \u001b[0munexpected_keys\u001b[0m\u001b[0;34m)\u001b[0m\u001b[0;34m\u001b[0m\u001b[0;34m\u001b[0m\u001b[0m\n",
            "\u001b[0;31mRuntimeError\u001b[0m: Error(s) in loading state_dict for Model:\n\tsize mismatch for fc_1.weight: copying a param with shape torch.Size([1, 33]) from checkpoint, the shape in current model is torch.Size([1, 32])."
          ]
        }
      ],
      "source": [
        "model.load_state_dict(torch.load('weights.pt'))"
      ]
    },
    {
      "cell_type": "code",
      "execution_count": null,
      "metadata": {
        "id": "QkPVreokKTu7",
        "colab": {
          "base_uri": "https://localhost:8080/"
        },
        "outputId": "42867fde-cfe6-4e9a-af06-4e1d6c3b583f"
      },
      "outputs": [
        {
          "output_type": "execute_result",
          "data": {
            "text/plain": [
              "OrderedDict([('fc_1.weight',\n",
              "              tensor([[ 0.0227,  0.1136, -0.0866,  0.0430,  0.0083, -0.1334,  0.1403,  0.1227,\n",
              "                       -0.0929,  0.0042, -0.1311,  0.0808, -0.0992, -0.1009, -0.0477, -0.0237,\n",
              "                       -0.0250,  0.1005, -0.0146, -0.1253, -0.0449,  0.1402,  0.0257,  0.0096,\n",
              "                       -0.1062, -0.0928,  0.0714, -0.1473,  0.1518,  0.1081,  0.1480,  0.1619,\n",
              "                       -0.1129]])),\n",
              "             ('fc_1.bias', tensor([0.0803])),\n",
              "             ('fc_2.weight',\n",
              "              tensor([[-0.1323,  0.0147, -0.0850, -0.0103, -0.0205,  0.1216, -0.1073,  0.1660,\n",
              "                       -0.1730,  0.0032,  0.1019,  0.1479, -0.0664,  0.1189,  0.0306,  0.1615,\n",
              "                        0.1403,  0.0437,  0.1213,  0.1699,  0.0656,  0.0407, -0.1497,  0.0773,\n",
              "                        0.1435, -0.1050, -0.0976, -0.1487,  0.0012, -0.0013, -0.0105,  0.0534,\n",
              "                       -0.1547],\n",
              "                      [-0.1573, -0.0901,  0.1206, -0.0951, -0.0844,  0.0143,  0.0062, -0.0606,\n",
              "                        0.0521, -0.0967, -0.0705, -0.1008,  0.0095,  0.0229,  0.0944, -0.1360,\n",
              "                       -0.0889,  0.1210, -0.0054, -0.1174,  0.0611,  0.1257,  0.0279,  0.0314,\n",
              "                        0.1550,  0.0701,  0.1338, -0.0329, -0.0778,  0.1179, -0.1527, -0.1372,\n",
              "                        0.1584]])),\n",
              "             ('fc_2.bias', tensor([0.1554, 0.0092]))])"
            ]
          },
          "metadata": {},
          "execution_count": 73
        }
      ],
      "source": [
        "model.state_dict()"
      ]
    },
    {
      "cell_type": "code",
      "execution_count": null,
      "metadata": {
        "id": "_sHLuYXyKxhJ"
      },
      "outputs": [],
      "source": [
        "def preprocess_model():\n",
        "    mob_model = mobilenet_v3_small()\n",
        "    mob_model.classifier[3] = nn.Linear(1024, 1)\n",
        "    mob_model.load_state_dict(...)\n",
        "    mob_model.eval()\n",
        "    return mob_model"
      ]
    }
  ],
  "metadata": {
    "accelerator": "GPU",
    "colab": {
      "provenance": [],
      "gpuType": "T4",
      "include_colab_link": true
    },
    "kernelspec": {
      "display_name": "Python 3",
      "name": "python3"
    },
    "language_info": {
      "name": "python"
    }
  },
  "nbformat": 4,
  "nbformat_minor": 0
}